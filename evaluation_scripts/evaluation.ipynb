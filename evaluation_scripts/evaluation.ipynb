{
 "cells": [
  {
   "cell_type": "code",
   "execution_count": null,
   "id": "56f88671-b295-4ad7-b4fb-dfda07aacf3d",
   "metadata": {
    "tags": []
   },
   "outputs": [],
   "source": [
    "import os\n",
    "import datetime\n",
    "import numpy as np\n",
    "import pandas as pd\n",
    "import seaborn as sns\n",
    "import matplotlib.pyplot as plt\n",
    "\n",
    "from sklearn.metrics import r2_score\n",
    "from sklearn.metrics import mean_squared_error"
   ]
  },
  {
   "cell_type": "code",
   "execution_count": null,
   "id": "764e5078-697b-4fda-8896-359fbcedcbf6",
   "metadata": {
    "tags": []
   },
   "outputs": [],
   "source": [
    "run_root_dir = '../results/dswe/pr_temp_tmin_tmax_dah_trasp_elev_slopeGTOPO_aspectGTOPO_pr_t7_temp_t7_tmin_t7_tmax_t7/'"
   ]
  },
  {
   "cell_type": "code",
   "execution_count": null,
   "id": "96dd1308-294a-47ce-8d40-6a92593cc9d3",
   "metadata": {
    "tags": []
   },
   "outputs": [],
   "source": [
    "save_dir = run_root_dir+'all_k/'"
   ]
  },
  {
   "cell_type": "code",
   "execution_count": null,
   "id": "e56b2486-062d-4a18-9835-c175a0ed99c1",
   "metadata": {
    "tags": []
   },
   "outputs": [],
   "source": [
    "mode = 'val'   # 'train'"
   ]
  },
  {
   "cell_type": "code",
   "execution_count": null,
   "id": "86181ddf-f8f2-489d-acd7-378ab9408c4f",
   "metadata": {
    "tags": []
   },
   "outputs": [],
   "source": [
    "nfolds = 4"
   ]
  },
  {
   "cell_type": "code",
   "execution_count": null,
   "id": "9e0bbe68-835f-427a-b2a7-8e9372764c87",
   "metadata": {
    "tags": []
   },
   "outputs": [],
   "source": [
    "os.makedirs(save_dir+'train/daily_eval/', exist_ok=True)\n",
    "os.makedirs(save_dir+'val/daily_eval/', exist_ok=True)\n",
    "os.makedirs(save_dir+'train/cum_eval/', exist_ok=True)\n",
    "os.makedirs(save_dir+'val/cum_eval/', exist_ok=True)\n",
    "os.makedirs(save_dir+'train/swe_eval/', exist_ok=True)\n",
    "os.makedirs(save_dir+'val/swe_eval/', exist_ok=True)"
   ]
  },
  {
   "cell_type": "code",
   "execution_count": null,
   "id": "fc8a05a5-e97c-4fcd-b94e-c0f85bc6a446",
   "metadata": {
    "tags": []
   },
   "outputs": [],
   "source": [
    "def calculate_r2_mae_mse(actual, predicted):\n",
    "    mse = np.sum((actual - predicted)**2)/len(actual)\n",
    "    mae = np.mean(abs(predicted - actual))\n",
    "    r2 = 1 - (mse/np.var(actual))\n",
    "    return r2, mae, mse"
   ]
  },
  {
   "cell_type": "code",
   "execution_count": null,
   "id": "7f0c5a25-b5bb-4766-b49a-5a81e187bffd",
   "metadata": {
    "tags": []
   },
   "outputs": [],
   "source": [
    "all_sites_df = pd.read_csv('../data/all_sites_df.csv', index_col=0)"
   ]
  },
  {
   "cell_type": "code",
   "execution_count": null,
   "id": "bbe64fcc-8b59-41b5-8084-bc7547fb790b",
   "metadata": {
    "tags": []
   },
   "outputs": [],
   "source": [
    "features = ['pr', 'tmin', 'tmax', 'temp', 'sd', 'swe_t1', 'dah', 'trasp', 'elev', 'elevGTOPO', 'slopeGTOPO', 'aspectGTOPO', \n",
    "            'pr_t1', 'temp_t1', 'tmin_t1', 'tmax_t1', 'pr_t2', 'temp_t2', 'tmin_t2', 'tmax_t2', 'pr_t3', 'temp_t3', 'tmin_t3', 'tmax_t3', \n",
    "            'pr_t4', 'temp_t4', 'tmin_t4', 'tmax_t4', 'pr_t5', 'temp_t5', 'tmin_t5', 'tmax_t5', 'pr_t6', 'temp_t6', 'tmin_t6', 'tmax_t6', 'pr_t7', 'temp_t7', 'tmin_t7', 'tmax_t7']"
   ]
  },
  {
   "cell_type": "code",
   "execution_count": null,
   "id": "598fa11d-5133-46bb-9ecf-2ff2605a5ae5",
   "metadata": {
    "tags": []
   },
   "outputs": [],
   "source": [
    "nlags = 7"
   ]
  },
  {
   "cell_type": "code",
   "execution_count": null,
   "id": "8c32840b-893d-4c73-aa4c-f3fe3d01e287",
   "metadata": {},
   "outputs": [],
   "source": []
  },
  {
   "cell_type": "code",
   "execution_count": null,
   "id": "e3de0390-d547-4f41-bf58-7c351a346640",
   "metadata": {},
   "outputs": [],
   "source": []
  },
  {
   "cell_type": "markdown",
   "id": "0b53e9a9-9238-4c73-9f2d-f3d4492a953d",
   "metadata": {},
   "source": [
    "# SWE Evaluation"
   ]
  },
  {
   "cell_type": "markdown",
   "id": "6b3f8ac7-e4bc-4b37-8961-0f3f08ae0b0d",
   "metadata": {},
   "source": [
    "Load dataframes including model predictions across folds and remove summer months"
   ]
  },
  {
   "cell_type": "code",
   "execution_count": null,
   "id": "c13b5793-ae43-44de-b9b3-eab202f435e8",
   "metadata": {
    "tags": []
   },
   "outputs": [],
   "source": [
    "run_swe_dfs_lst = []"
   ]
  },
  {
   "cell_type": "code",
   "execution_count": null,
   "id": "b644a1ea-9571-4deb-9f0e-c449f679c28c",
   "metadata": {
    "tags": []
   },
   "outputs": [],
   "source": [
    "for k in range(nfolds):\n",
    "    run_fold_cum_dir = f'{run_root_dir}k={k}/{mode}/ALL_SITES_WY_DF.csv'\n",
    "    run_fold_cum_df = pd.read_csv(run_fold_cum_dir, index_col=0)\n",
    "    run_swe_dfs_lst.append(run_fold_cum_df)"
   ]
  },
  {
   "cell_type": "code",
   "execution_count": null,
   "id": "7e2d7443-f634-4c95-858b-dc341e8a0a8d",
   "metadata": {
    "tags": []
   },
   "outputs": [],
   "source": [
    "run_swe_dfs = pd.concat(run_swe_dfs_lst)"
   ]
  },
  {
   "cell_type": "code",
   "execution_count": null,
   "id": "9ebbcb59-b065-4fda-bb23-f9c042a75cf3",
   "metadata": {
    "tags": []
   },
   "outputs": [],
   "source": [
    "run_swe_dfs = run_swe_dfs[~pd.to_datetime(run_swe_dfs['datetime']).dt.month.isin([7, 8, 9])]"
   ]
  },
  {
   "cell_type": "markdown",
   "id": "b6ab2c36-20b1-47de-baff-10e96d2b20b2",
   "metadata": {},
   "source": [
    "## Aggregate"
   ]
  },
  {
   "cell_type": "markdown",
   "id": "974e4ef5-445f-4f49-b123-124c3d7bfd58",
   "metadata": {},
   "source": [
    "Compute performance metrics based on aggregating across all sites and dates."
   ]
  },
  {
   "cell_type": "code",
   "execution_count": null,
   "id": "51235e55-59b9-4ec0-8ed8-420118134670",
   "metadata": {
    "tags": []
   },
   "outputs": [],
   "source": [
    "swe_UASWE_r2, swe_UASWE_mae, swe_UASWE_mse = calculate_r2_mae_mse(run_swe_dfs['swe'], run_swe_dfs['UASWE'])\n",
    "swe_LM_r2, swe_LM_mae, swe_LM_mse = calculate_r2_mae_mse(run_swe_dfs['swe'], run_swe_dfs['pred_swe_LM'])\n",
    "swe_P2M_r2, swe_P2M_mae, swe_P2M_mse = calculate_r2_mae_mse(run_swe_dfs['swe'], run_swe_dfs['pred_swe_P2M'])\n",
    "swe_P3M_r2, swe_P3M_mae, swe_P3M_mse = calculate_r2_mae_mse(run_swe_dfs['swe'], run_swe_dfs['pred_swe_P3M'])\n",
    "swe_RF_r2, swe_RF_mae, swe_RF_mse = calculate_r2_mae_mse(run_swe_dfs['swe'], run_swe_dfs['pred_swe_RF'])\n",
    "swe_NN_r2, swe_NN_mae, swe_NN_mse = calculate_r2_mae_mse(run_swe_dfs['swe'], run_swe_dfs['pred_swe_NN'])"
   ]
  },
  {
   "cell_type": "code",
   "execution_count": null,
   "id": "bd332613-def8-424a-abbc-e650d0605a58",
   "metadata": {
    "tags": []
   },
   "outputs": [],
   "source": [
    "swe_metrics = {'UA SWE Reg': [swe_UASWE_mse, swe_UASWE_mae, swe_UASWE_r2],\n",
    "        'Lin Reg': [swe_LM_mse, swe_LM_mae, swe_LM_r2],\n",
    "        'Quad Reg': [swe_P2M_mse, swe_P2M_mae, swe_P2M_r2],\n",
    "        'Cub Reg': [swe_P3M_mse, swe_P3M_mae, swe_P3M_r2],\n",
    "        'RF': [swe_RF_mse, swe_RF_mae, swe_RF_r2],\n",
    "        'NN': [swe_NN_mse, swe_NN_mae, swe_NN_r2]\n",
    "       }"
   ]
  },
  {
   "cell_type": "code",
   "execution_count": null,
   "id": "cf699e34-0635-44a8-abed-eb133f953af6",
   "metadata": {
    "tags": []
   },
   "outputs": [],
   "source": [
    "# Creates pandas DataFrame.\n",
    "swe_metrics_df = pd.DataFrame(swe_metrics, index=['MSE', 'MAE', 'R2'])"
   ]
  },
  {
   "cell_type": "code",
   "execution_count": null,
   "id": "2dd98aa0-e7c9-45df-af9e-7cc4b73819b5",
   "metadata": {
    "tags": []
   },
   "outputs": [],
   "source": [
    "swe_metrics_df"
   ]
  },
  {
   "cell_type": "code",
   "execution_count": null,
   "id": "05c06698-412e-45c5-a6a8-cd27e1dbc66a",
   "metadata": {
    "tags": []
   },
   "outputs": [],
   "source": [
    "swe_metrics_df.to_csv(f'{save_dir}{mode}/swe_eval/aggregate_scheme/swe_abl_metrics.csv')"
   ]
  },
  {
   "cell_type": "markdown",
   "id": "387d1c5a-81d2-4c8e-a820-354950d06ab7",
   "metadata": {},
   "source": [
    "## Climatological"
   ]
  },
  {
   "cell_type": "markdown",
   "id": "3dc052fc-188d-4a07-bdb2-f90c0db28738",
   "metadata": {},
   "source": [
    "Compute metrics for each day, across sites and years."
   ]
  },
  {
   "cell_type": "code",
   "execution_count": null,
   "id": "899a3771-9c5d-455c-b456-1ae4d558aa03",
   "metadata": {
    "tags": []
   },
   "outputs": [],
   "source": [
    "UASWE_metrics = run_swe_dfs[['datetime', 'swe', 'UASWE']].rename(columns={'swe':'Actual', 'UASWE':'Predicted'}).groupby([pd.to_datetime(run_swe_dfs['datetime']).dt.month, pd.to_datetime(run_swe_dfs['datetime']).dt.day])\n"
   ]
  },
  {
   "cell_type": "code",
   "execution_count": null,
   "id": "df77b87a-b2c3-40c0-a15b-e0b3e8a86d61",
   "metadata": {
    "tags": []
   },
   "outputs": [],
   "source": [
    "run_noswe_dfs = run_cum_dfs.copy()"
   ]
  },
  {
   "cell_type": "code",
   "execution_count": null,
   "id": "76b42925-7de1-431a-8777-4f16e7857eef",
   "metadata": {
    "tags": []
   },
   "outputs": [],
   "source": [
    "UASWE_metrics = run_swe_dfs[['datetime', 'swe', 'UASWE']].rename(columns={'swe':'Actual', 'UASWE':'Predicted'}).groupby([pd.to_datetime(run_swe_dfs['datetime']).dt.month, pd.to_datetime(run_swe_dfs['datetime']).dt.day]).apply(metrics)\n",
    "UASWE_metrics.index.names=['Month','Day']\n",
    "# UASWE_metrics.index.get_level_values('Month')\n",
    "# UASWE_metrics = UASWE_metrics.drop([7,8,9], level='Month')\n",
    "\n",
    "LM_metrics = run_swe_dfs[['datetime', 'swe', 'pred_swe_LM']].rename(columns={'swe':'Actual', 'pred_swe_LM':'Predicted'}).groupby([pd.to_datetime(run_swe_dfs['datetime']).dt.month, pd.to_datetime(run_swe_dfs['datetime']).dt.day]).apply(metrics)\n",
    "LM_metrics.index.names=['Month','Day']\n",
    "# LM_metrics.index.get_level_values('Month')\n",
    "# LM_metrics = LM_metrics.drop([7,8,9], level='Month')\n",
    "\n",
    "P2M_metrics = run_swe_dfs[['datetime', 'swe', 'pred_swe_P2M']].rename(columns={'swe':'Actual', 'pred_swe_P2M':'Predicted'}).groupby([pd.to_datetime(run_swe_dfs['datetime']).dt.month, pd.to_datetime(run_swe_dfs['datetime']).dt.day]).apply(metrics)\n",
    "P2M_metrics.index.names=['Month','Day']\n",
    "# P2M_metrics.index.get_level_values('Month')\n",
    "# P2M_metrics = P2M_metrics.drop([7,8,9], level='Month')\n",
    "\n",
    "P3M_metrics = run_swe_dfs[['datetime', 'swe', 'pred_swe_P3M']].rename(columns={'swe':'Actual', 'pred_swe_P3M':'Predicted'}).groupby([pd.to_datetime(run_swe_dfs['datetime']).dt.month, pd.to_datetime(run_swe_dfs['datetime']).dt.day]).apply(metrics)\n",
    "P3M_metrics.index.names=['Month','Day']\n",
    "# P3M_metrics.index.get_level_values('Month')\n",
    "# P3M_metrics = P3M_metrics.drop([7,8,9], level='Month')\n",
    "\n",
    "RF_metrics = run_swe_dfs[['datetime', 'swe', 'pred_swe_RF']].rename(columns={'swe':'Actual', 'pred_swe_RF':'Predicted'}).groupby([pd.to_datetime(run_swe_dfs['datetime']).dt.month, pd.to_datetime(run_swe_dfs['datetime']).dt.day]).apply(metrics)\n",
    "RF_metrics.index.names=['Month','Day']\n",
    "# RF_metrics.index.get_level_values('Month')\n",
    "# RF_metrics = RF_metrics.drop([7,8,9], level='Month')\n",
    "\n",
    "NN_metrics = run_swe_dfs[['datetime', 'swe', 'pred_swe_NN']].rename(columns={'swe':'Actual', 'pred_swe_NN':'Predicted'}).groupby([pd.to_datetime(run_swe_dfs['datetime']).dt.month, pd.to_datetime(run_swe_dfs['datetime']).dt.day]).apply(metrics)\n",
    "NN_metrics.index.names=['Month','Day']\n",
    "# NN_metrics.index.get_level_values('Month')\n",
    "# NN_metrics = NN_metrics.drop([7,8,9], level='Month')"
   ]
  },
  {
   "cell_type": "code",
   "execution_count": null,
   "id": "b5de19b4-4dfa-4fd6-8d5b-e91854df8f14",
   "metadata": {
    "tags": []
   },
   "outputs": [],
   "source": [
    "UASWE_metrics['date'] = UASWE_metrics.index.get_level_values('Month').astype(str) + '-' + UASWE_metrics.index.get_level_values('Day').astype(str)\n",
    "LM_metrics['date'] = LM_metrics.index.get_level_values('Month').astype(str) + '-' + LM_metrics.index.get_level_values('Day').astype(str)\n",
    "P2M_metrics['date'] = P2M_metrics.index.get_level_values('Month').astype(str) + '-' + P2M_metrics.index.get_level_values('Day').astype(str)\n",
    "P3M_metrics['date'] = P3M_metrics.index.get_level_values('Month').astype(str) + '-' + P3M_metrics.index.get_level_values('Day').astype(str)\n",
    "RF_metrics['date'] = RF_metrics.index.get_level_values('Month').astype(str) + '-' + RF_metrics.index.get_level_values('Day').astype(str)\n",
    "NN_metrics['date'] = NN_metrics.index.get_level_values('Month').astype(str) + '-' + NN_metrics.index.get_level_values('Day').astype(str)"
   ]
  },
  {
   "cell_type": "code",
   "execution_count": null,
   "id": "f4611ffc-09e4-46dd-8f98-8e9a2db735b4",
   "metadata": {
    "tags": []
   },
   "outputs": [],
   "source": [
    "plt.clf()\n",
    "fig, ax = plt.subplots(figsize=(24, 6))\n",
    "ax.plot(pd.concat([UASWE_metrics[181:]['date'], UASWE_metrics[:181]['date']]).values, pd.concat([UASWE_metrics[181:]['mse'], UASWE_metrics[:181]['mse']]).values, label='UA', color='black')\n",
    "ax.plot(pd.concat([LM_metrics[181:]['date'], LM_metrics[:181]['date']]).values, pd.concat([LM_metrics[181:]['mse'], LM_metrics[:181]['mse']]).values, label='LM')\n",
    "ax.plot(pd.concat([P2M_metrics[181:]['date'], P2M_metrics[:181]['date']]).values, pd.concat([P2M_metrics[181:]['mse'], P2M_metrics[:181]['mse']]).values, label='P2M')\n",
    "ax.plot(pd.concat([P3M_metrics[181:]['date'], P3M_metrics[:181]['date']]).values, pd.concat([P3M_metrics[181:]['mse'], P3M_metrics[:181]['mse']]).values, label='P3M')\n",
    "ax.plot(pd.concat([RF_metrics[181:]['date'], RF_metrics[:181]['date']]).values, pd.concat([RF_metrics[181:]['mse'], RF_metrics[:181]['mse']]).values, label='RF')\n",
    "ax.plot(pd.concat([NN_metrics[181:]['date'], NN_metrics[:181]['date']]).values, pd.concat([NN_metrics[181:]['mse'], NN_metrics[:181]['mse']]).values, label='NN')\n",
    "ax.set_xticks(ax.get_xticks()[::30])   # tick at every 30th entry\n",
    "ax.set_xticklabels(ax.get_xticks(), rotation=90)\n",
    "ax.set_xticklabels(list(pd.concat([UASWE_metrics[181:]['date'], UASWE_metrics[:181]['date']]).values)[::30])    # tick labels at every 30th entry\n",
    "ax.set_title('SWE: MSE')\n",
    "ax.legend()\n",
    "# ax.axhline(200, linestyle='--', color='lightgrey')\n",
    "# plt.savefig(f'{save_dir}{mode}/swe_eval/climatological_scheme/swe_mse_climat.png', dpi=300)\n",
    "plt.show()\n",
    "\n",
    "plt.clf()\n",
    "fig, ax = plt.subplots(figsize=(24, 6))\n",
    "ax.plot(pd.concat([UASWE_metrics[181:]['date'], UASWE_metrics[:181]['date']]).values, pd.concat([UASWE_metrics[181:]['rmse'], UASWE_metrics[:181]['rmse']]).values, label='UA', color='black')\n",
    "ax.plot(pd.concat([LM_metrics[181:]['date'], LM_metrics[:181]['date']]).values, pd.concat([LM_metrics[181:]['rmse'], LM_metrics[:181]['rmse']]).values, label='LM')\n",
    "ax.plot(pd.concat([P2M_metrics[181:]['date'], P2M_metrics[:181]['date']]).values, pd.concat([P2M_metrics[181:]['rmse'], P2M_metrics[:181]['rmse']]).values, label='P2M')\n",
    "ax.plot(pd.concat([P3M_metrics[181:]['date'], P3M_metrics[:181]['date']]).values, pd.concat([P3M_metrics[181:]['rmse'], P3M_metrics[:181]['rmse']]).values, label='P3M')\n",
    "ax.plot(pd.concat([RF_metrics[181:]['date'], RF_metrics[:181]['date']]).values, pd.concat([RF_metrics[181:]['rmse'], RF_metrics[:181]['rmse']]).values, label='RF')\n",
    "ax.plot(pd.concat([NN_metrics[181:]['date'], NN_metrics[:181]['date']]).values, pd.concat([NN_metrics[181:]['rmse'], NN_metrics[:181]['rmse']]).values, label='NN')\n",
    "ax.set_xticks(ax.get_xticks()[::30])   # tick at every 30th entry\n",
    "ax.set_xticklabels(ax.get_xticks(), rotation=90)\n",
    "ax.set_xticklabels(list(pd.concat([UASWE_metrics[181:]['date'], UASWE_metrics[:181]['date']]).values)[::30])    # tick labels at every 30th entry\n",
    "ax.set_title('SWE: RMSE')\n",
    "ax.legend()\n",
    "# ax.axhline(200, linestyle='--', color='lightgrey')\n",
    "ax.set_ylim(0,200)\n",
    "# plt.savefig(f'{save_dir}{mode}/swe_eval/climatological_scheme/swe_rmse_climat.png', dpi=300)\n",
    "plt.show()\n",
    "\n",
    "plt.clf()\n",
    "fig, ax = plt.subplots(figsize=(24, 6))\n",
    "ax.plot(pd.concat([UASWE_metrics[181:]['date'], UASWE_metrics[:181]['date']]).values, pd.concat([UASWE_metrics[181:]['mae'], UASWE_metrics[:181]['mae']]).values, label='UA', color='black')\n",
    "ax.plot(pd.concat([LM_metrics[181:]['date'], LM_metrics[:181]['date']]).values, pd.concat([LM_metrics[181:]['mae'], LM_metrics[:181]['mae']]).values, label='LM')\n",
    "ax.plot(pd.concat([P2M_metrics[181:]['date'], P2M_metrics[:181]['date']]).values, pd.concat([P2M_metrics[181:]['mae'], P2M_metrics[:181]['mae']]).values, label='P2M')\n",
    "ax.plot(pd.concat([P3M_metrics[181:]['date'], P3M_metrics[:181]['date']]).values, pd.concat([P3M_metrics[181:]['mae'], P3M_metrics[:181]['mae']]).values, label='P3M')\n",
    "ax.plot(pd.concat([RF_metrics[181:]['date'], RF_metrics[:181]['date']]).values, pd.concat([RF_metrics[181:]['mae'], RF_metrics[:181]['mae']]).values, label='RF')\n",
    "ax.plot(pd.concat([NN_metrics[181:]['date'], NN_metrics[:181]['date']]).values, pd.concat([NN_metrics[181:]['mae'], NN_metrics[:181]['mae']]).values, label='NN')\n",
    "ax.set_xticks(ax.get_xticks()[::30])   # tick at every 30th entry\n",
    "ax.set_xticklabels(ax.get_xticks(), rotation=90)\n",
    "ax.set_xticklabels(list(pd.concat([UASWE_metrics[181:]['date'], UASWE_metrics[:181]['date']]).values)[::30])    # tick labels at every 30th entry\n",
    "ax.set_title('SWE: MAE')\n",
    "ax.legend()\n",
    "# ax.axhline(200, linestyle='--', color='lightgrey')\n",
    "# plt.savefig(f'{save_dir}{mode}/swe_eval/climatological_scheme/swe_mae_climat.png', dpi=300)\n",
    "plt.show()\n",
    "\n",
    "plt.clf()\n",
    "fig, ax = plt.subplots(figsize=(24, 6))\n",
    "ax.plot(pd.concat([UASWE_metrics[181:]['date'], UASWE_metrics[:181]['date']]).values, pd.concat([UASWE_metrics[181:]['r2'], UASWE_metrics[:181]['r2']]).values, label='UA', color='black')\n",
    "ax.plot(pd.concat([LM_metrics[181:]['date'], LM_metrics[:181]['date']]).values, pd.concat([LM_metrics[181:]['r2'], LM_metrics[:181]['r2']]).values, label='LM')\n",
    "ax.plot(pd.concat([P2M_metrics[181:]['date'], P2M_metrics[:181]['date']]).values, pd.concat([P2M_metrics[181:]['r2'], P2M_metrics[:181]['r2']]).values, label='P2M')\n",
    "ax.plot(pd.concat([P3M_metrics[181:]['date'], P3M_metrics[:181]['date']]).values, pd.concat([P3M_metrics[181:]['r2'], P3M_metrics[:181]['r2']]).values, label='P3M')\n",
    "ax.plot(pd.concat([RF_metrics[181:]['date'], RF_metrics[:181]['date']]).values, pd.concat([RF_metrics[181:]['r2'], RF_metrics[:181]['r2']]).values, label='RF')\n",
    "ax.plot(pd.concat([NN_metrics[181:]['date'], NN_metrics[:181]['date']]).values, pd.concat([NN_metrics[181:]['r2'], NN_metrics[:181]['r2']]).values, label='NN')\n",
    "ax.set_xticks(ax.get_xticks()[::30])   # tick at every 30th entry\n",
    "ax.set_xticklabels(ax.get_xticks(), rotation=90)\n",
    "ax.set_xticklabels(list(pd.concat([UASWE_metrics[181:]['date'], UASWE_metrics[:181]['date']]).values)[::30])    # tick labels at every 30th entry\n",
    "ax.set_title('SWE: R2')\n",
    "ax.legend()\n",
    "ax.set_ylim(-1, 1)\n",
    "ax.axhline(0, linestyle='--', color='lightgrey')\n",
    "# plt.savefig(f'{save_dir}{mode}/swe_eval/climatological_scheme/swe_r2_climat.png', dpi=300)\n",
    "plt.show()"
   ]
  },
  {
   "cell_type": "markdown",
   "id": "acb6d2c5-acee-4dae-adf8-f5003588fe51",
   "metadata": {},
   "source": [
    "## Site-Year"
   ]
  },
  {
   "cell_type": "markdown",
   "id": "cc9f7657-416f-4079-8353-ae721a7552b1",
   "metadata": {},
   "source": [
    "Compute metrics by site-year."
   ]
  },
  {
   "cell_type": "code",
   "execution_count": null,
   "id": "0005bce9-7c66-4333-b070-138d16981ec0",
   "metadata": {
    "tags": []
   },
   "outputs": [],
   "source": [
    "mse_swe_UASWE, mse_swe_LM, mse_swe_P2M, mse_swe_P3M, mse_swe_RF, mse_swe_NN = [], [], [], [], [], []\n",
    "mae_swe_UASWE, mae_swe_LM, mae_swe_P2M, mae_swe_P3M, mae_swe_RF, mae_swe_NN = [], [], [], [], [], []\n",
    "r2_swe_UASWE, r2_swe_LM, r2_swe_P2M, r2_swe_P3M, r2_swe_RF, r2_swe_NN = [], [], [], [], [], []"
   ]
  },
  {
   "cell_type": "code",
   "execution_count": null,
   "id": "7253a248-28b5-4cec-8260-89206a4fa28d",
   "metadata": {
    "tags": []
   },
   "outputs": [],
   "source": [
    "for site in np.unique(run_swe_dfs['sitecode']):\n",
    "    for wy in np.unique(run_swe_dfs['water_year']):\n",
    "        site_wy_df = run_swe_dfs[(run_swe_dfs['sitecode'] == site) & (run_swe_dfs['water_year'] == wy)]\n",
    "        \n",
    "        if not site_wy_df.empty:\n",
    "            \n",
    "            mse_swe_UASWE.append(mean_squared_error(site_wy_df['swe'], site_wy_df['UASWE'], squared=True))\n",
    "            mse_swe_LM.append(mean_squared_error(site_wy_df['swe'], site_wy_df['pred_swe_LM'], squared=True))\n",
    "            mse_swe_P2M.append(mean_squared_error(site_wy_df['swe'], site_wy_df['pred_swe_P2M'], squared=True))\n",
    "            mse_swe_P3M.append(mean_squared_error(site_wy_df['swe'], site_wy_df['pred_swe_P3M'], squared=True))\n",
    "            mse_swe_RF.append(mean_squared_error(site_wy_df['swe'], site_wy_df['pred_swe_RF'], squared=True))\n",
    "            mse_swe_NN.append(mean_squared_error(site_wy_df['swe'], site_wy_df['pred_swe_NN'], squared=True))     \n",
    "            mae_swe_UASWE.append(np.mean(abs(site_wy_df['UASWE'] - site_wy_df['swe'])))\n",
    "            mae_swe_LM.append(np.mean(abs(site_wy_df['pred_swe_LM'] - site_wy_df['swe'])))\n",
    "            mae_swe_P2M.append(np.mean(abs(site_wy_df['pred_swe_P2M'] - site_wy_df['swe'])))\n",
    "            mae_swe_P3M.append(np.mean(abs(site_wy_df['pred_swe_P3M'] - site_wy_df['swe'])))\n",
    "            mae_swe_RF.append(np.mean(abs(site_wy_df['pred_swe_RF'] - site_wy_df['swe'])))\n",
    "            mae_swe_NN.append(np.mean(abs(site_wy_df['pred_swe_NN'] - site_wy_df['swe'])))\n",
    "            r2_swe_UASWE.append(r2_score(site_wy_df['swe'], site_wy_df['UASWE']))\n",
    "            r2_swe_LM.append(r2_score(site_wy_df['swe'], site_wy_df['pred_swe_LM']))\n",
    "            r2_swe_P2M.append(r2_score(site_wy_df['swe'], site_wy_df['pred_swe_P2M']))\n",
    "            r2_swe_P3M.append(r2_score(site_wy_df['swe'], site_wy_df['pred_swe_P3M']))\n",
    "            r2_swe_RF.append(r2_score(site_wy_df['swe'], site_wy_df['pred_swe_RF']))\n",
    "            r2_swe_NN.append(r2_score(site_wy_df['swe'], site_wy_df['pred_swe_NN']))\n"
   ]
  },
  {
   "cell_type": "code",
   "execution_count": null,
   "id": "63821164-42e6-44fa-a456-346825dd4b5d",
   "metadata": {
    "tags": []
   },
   "outputs": [],
   "source": [
    "swe_metrics_med = {'UA SWE Reg': [np.median(mse_swe_UASWE), np.median(mae_swe_UASWE), np.median(r2_swe_UASWE)],\n",
    "                   'Lin Reg': [np.median(mse_swe_LM), np.median(mae_swe_LM), np.median(r2_swe_LM)],\n",
    "                   'Quad Reg': [np.median(mse_swe_P2M), np.median(mae_swe_P2M), np.median(r2_swe_P2M)],\n",
    "                   'Cub Reg': [np.median(mse_swe_P3M), np.median(mae_swe_P3M), np.median(r2_swe_P3M)],\n",
    "                   'RF': [np.median(mse_swe_RF), np.median(mae_swe_RF), np.median(r2_swe_RF)],\n",
    "                   'NN': [np.median(mse_swe_NN), np.median(mae_swe_NN), np.median(r2_swe_NN)]\n",
    "                  }\n",
    "swe_metrics_mean = {'UA SWE Reg': [np.mean(mse_swe_UASWE), np.mean(mae_swe_UASWE), np.mean(r2_swe_UASWE)],\n",
    "               'Lin Reg': [np.mean(mse_swe_LM), np.mean(mae_swe_LM), np.mean(r2_swe_LM)],\n",
    "               'Quad Reg': [np.mean(mse_swe_P2M), np.mean(mae_swe_P2M), np.mean(r2_swe_P2M)],\n",
    "               'Cub Reg': [np.mean(mse_swe_P3M), np.mean(mae_swe_P3M), np.mean(r2_swe_P3M)],\n",
    "               'RF': [np.mean(mse_swe_RF), np.mean(mae_swe_RF), np.mean(r2_swe_RF)],\n",
    "               'NN': [np.mean(mse_swe_NN), np.mean(mae_swe_NN), np.mean(r2_swe_NN)]\n",
    "              }\n",
    "swe_metrics_std = {'UA SWE Reg': [np.std(mse_swe_UASWE), np.std(mae_swe_UASWE), np.std(r2_swe_UASWE)],\n",
    "               'Lin Reg': [np.std(mse_swe_LM), np.std(mae_swe_LM), np.std(r2_swe_LM)],\n",
    "               'Quad Reg': [np.std(mse_swe_P2M), np.std(mae_swe_P2M), np.std(r2_swe_P2M)],\n",
    "               'Cub Reg': [np.std(mse_swe_P3M), np.std(mae_swe_P3M), np.std(r2_swe_P3M)],\n",
    "               'RF': [np.std(mse_swe_RF), np.std(mae_swe_RF), np.std(r2_swe_RF)],\n",
    "               'NN': [np.std(mse_swe_NN), np.std(mae_swe_NN), np.std(r2_swe_NN)]\n",
    "              }"
   ]
  },
  {
   "cell_type": "code",
   "execution_count": null,
   "id": "325ab500-8be4-4b1c-aa60-c5b3831c0bfd",
   "metadata": {
    "tags": []
   },
   "outputs": [],
   "source": [
    "swe_abl_means = pd.DataFrame(swe_metrics_mean, index=['MSE','MAE','R2'])"
   ]
  },
  {
   "cell_type": "code",
   "execution_count": null,
   "id": "f30e1083-eeee-44ea-92e0-0e24bbb05c6f",
   "metadata": {
    "tags": []
   },
   "outputs": [],
   "source": [
    "swe_abl_meds = pd.DataFrame(swe_metrics_med, index=['MSE','MAE','R2'])"
   ]
  },
  {
   "cell_type": "code",
   "execution_count": null,
   "id": "59ee5c88-34d3-4ec1-9629-7559d89715f8",
   "metadata": {
    "tags": []
   },
   "outputs": [],
   "source": [
    "swe_abl_stds = pd.DataFrame(swe_metrics_std, index=['MSE','MAE','R2'])"
   ]
  },
  {
   "cell_type": "code",
   "execution_count": null,
   "id": "c35ba5d1-9dcb-4b75-8ff1-477a19c433ea",
   "metadata": {
    "tags": []
   },
   "outputs": [],
   "source": [
    "swe_abl_means.to_csv(f'{save_dir}{mode}/swe_eval/site_year_scheme/swe_abl_means.csv')\n",
    "swe_abl_meds.to_csv(f'{save_dir}{mode}/swe_eval/site_year_scheme/swe_abl_meds.csv')\n",
    "swe_abl_stds.to_csv(f'{save_dir}{mode}/swe_eval/site_year_scheme/swe_abl_stds.csv')"
   ]
  },
  {
   "cell_type": "code",
   "execution_count": null,
   "id": "02cdc69b-0a70-45f7-bd11-7a4e7bb13e15",
   "metadata": {
    "tags": []
   },
   "outputs": [],
   "source": [
    "swe_abl_means"
   ]
  },
  {
   "cell_type": "code",
   "execution_count": null,
   "id": "b544f584-bd47-4c9d-b4b2-410c31afba79",
   "metadata": {
    "tags": []
   },
   "outputs": [],
   "source": [
    "swe_abl_meds"
   ]
  },
  {
   "cell_type": "code",
   "execution_count": null,
   "id": "603fef01-f6fc-4e46-a139-9c80862f1caf",
   "metadata": {},
   "outputs": [],
   "source": []
  },
  {
   "cell_type": "markdown",
   "id": "563310fb-ce20-411b-8b1a-aa5c30083a75",
   "metadata": {
    "tags": []
   },
   "source": [
    "# Climatological SWE Time Series"
   ]
  },
  {
   "cell_type": "markdown",
   "id": "4d00da03-22ed-45e4-9c1f-fb92fe975a90",
   "metadata": {},
   "source": [
    "Generate climatological time series of SWE model predictions and compare it to that of SNOTEL SWE."
   ]
  },
  {
   "cell_type": "code",
   "execution_count": null,
   "id": "fda5f7c5-d011-4621-9241-6d0734a212b8",
   "metadata": {
    "tags": []
   },
   "outputs": [],
   "source": [
    "dfs_sub = run_swe_dfs[['datetime', 'swe', 'UASWE', 'pred_swe_UASWE',\n",
    "       'pred_swe_LM', 'pred_swe_P2M', 'pred_swe_P3M', 'pred_swe_RF',\n",
    "       'pred_swe_NN']]"
   ]
  },
  {
   "cell_type": "code",
   "execution_count": null,
   "id": "e68c2da1-6f41-441e-aa30-6960c8d90efd",
   "metadata": {
    "tags": []
   },
   "outputs": [],
   "source": [
    "snotel_swe_mean = dfs_sub.groupby([(pd.to_datetime(dfs_sub['datetime']).dt.month),(pd.to_datetime(dfs_sub['datetime']).dt.day)])['swe'].mean()\n",
    "uaswe_swe_mean = dfs_sub.groupby([(pd.to_datetime(dfs_sub['datetime']).dt.month),(pd.to_datetime(dfs_sub['datetime']).dt.day)])['UASWE'].mean()\n",
    "myswe_swe_mean = dfs_sub.groupby([(pd.to_datetime(dfs_sub['datetime']).dt.month),(pd.to_datetime(dfs_sub['datetime']).dt.day)])['pred_swe_UASWE'].mean()\n",
    "lm_swe_mean = dfs_sub.groupby([(pd.to_datetime(dfs_sub['datetime']).dt.month),(pd.to_datetime(dfs_sub['datetime']).dt.day)])['pred_swe_LM'].mean()\n",
    "p2m_swe_mean = dfs_sub.groupby([(pd.to_datetime(dfs_sub['datetime']).dt.month),(pd.to_datetime(dfs_sub['datetime']).dt.day)])['pred_swe_P2M'].mean()\n",
    "p3m_swe_mean = dfs_sub.groupby([(pd.to_datetime(dfs_sub['datetime']).dt.month),(pd.to_datetime(dfs_sub['datetime']).dt.day)])['pred_swe_P3M'].mean()\n",
    "rf_swe_mean = dfs_sub.groupby([(pd.to_datetime(dfs_sub['datetime']).dt.month),(pd.to_datetime(dfs_sub['datetime']).dt.day)])['pred_swe_RF'].mean()\n",
    "nn_swe_mean = dfs_sub.groupby([(pd.to_datetime(dfs_sub['datetime']).dt.month),(pd.to_datetime(dfs_sub['datetime']).dt.day)])['pred_swe_NN'].mean()"
   ]
  },
  {
   "cell_type": "code",
   "execution_count": null,
   "id": "33c279eb-ead9-42b2-9d68-07e57c8b1a97",
   "metadata": {
    "tags": []
   },
   "outputs": [],
   "source": [
    "# print(lm_swe_mean, p2m_swe_mean, p3m_swe_mean, rf_swe_mean)"
   ]
  },
  {
   "cell_type": "code",
   "execution_count": null,
   "id": "4f251fa5-7c91-47fe-a887-e1bca6a39b29",
   "metadata": {
    "tags": []
   },
   "outputs": [],
   "source": [
    "snotel_swe_mean.index.names = ['Month', 'Day']\n",
    "uaswe_swe_mean.index.names = ['Month', 'Day']\n",
    "myswe_swe_mean.index.names = ['Month', 'Day']\n",
    "lm_swe_mean.index.names = ['Month', 'Day']\n",
    "p2m_swe_mean.index.names = ['Month', 'Day']\n",
    "p3m_swe_mean.index.names = ['Month', 'Day']\n",
    "rf_swe_mean.index.names = ['Month', 'Day']\n",
    "nn_swe_mean.index.names = ['Month', 'Day']"
   ]
  },
  {
   "cell_type": "code",
   "execution_count": null,
   "id": "95fa049b-5fb2-499b-bce1-24c1a6f0c970",
   "metadata": {
    "tags": []
   },
   "outputs": [],
   "source": [
    "snotel_swe_mean = snotel_swe_mean.to_frame()\n",
    "uaswe_swe_mean = uaswe_swe_mean.to_frame()\n",
    "myswe_swe_mean = myswe_swe_mean.to_frame()\n",
    "lm_swe_mean = lm_swe_mean.to_frame()\n",
    "p2m_swe_mean = p2m_swe_mean.to_frame()\n",
    "p3m_swe_mean = p3m_swe_mean.to_frame()\n",
    "rf_swe_mean = rf_swe_mean.to_frame()\n",
    "nn_swe_mean = nn_swe_mean.to_frame()"
   ]
  },
  {
   "cell_type": "code",
   "execution_count": null,
   "id": "23be4c55-ef2e-481d-856d-566b9bea286f",
   "metadata": {
    "tags": []
   },
   "outputs": [],
   "source": [
    "snotel_swe_mean['date'] = snotel_swe_mean.index.get_level_values('Month').astype(str) + '-' + snotel_swe_mean.index.get_level_values('Day').astype(str)\n",
    "uaswe_swe_mean['date'] = uaswe_swe_mean.index.get_level_values('Month').astype(str) + '-' + uaswe_swe_mean.index.get_level_values('Day').astype(str)\n",
    "myswe_swe_mean['date'] = myswe_swe_mean.index.get_level_values('Month').astype(str) + '-' + myswe_swe_mean.index.get_level_values('Day').astype(str)\n",
    "lm_swe_mean['date'] = lm_swe_mean.index.get_level_values('Month').astype(str) + '-' + lm_swe_mean.index.get_level_values('Day').astype(str)\n",
    "p2m_swe_mean['date'] = p2m_swe_mean.index.get_level_values('Month').astype(str) + '-' + p2m_swe_mean.index.get_level_values('Day').astype(str)\n",
    "p3m_swe_mean['date'] = p3m_swe_mean.index.get_level_values('Month').astype(str) + '-' + p3m_swe_mean.index.get_level_values('Day').astype(str)\n",
    "rf_swe_mean['date'] = rf_swe_mean.index.get_level_values('Month').astype(str) + '-' + rf_swe_mean.index.get_level_values('Day').astype(str)\n",
    "nn_swe_mean['date'] = nn_swe_mean.index.get_level_values('Month').astype(str) + '-' + nn_swe_mean.index.get_level_values('Day').astype(str)"
   ]
  },
  {
   "cell_type": "code",
   "execution_count": null,
   "id": "fd157573-4488-41d1-aed1-1e970358ac07",
   "metadata": {
    "tags": []
   },
   "outputs": [],
   "source": [
    "fig, ax = plt.subplots(figsize=(24, 6))\n",
    "ax.plot(pd.concat([snotel_swe_mean[181:]['date'], snotel_swe_mean[:181]['date']]).values, pd.concat([snotel_swe_mean[181:]['swe'], snotel_swe_mean[:181]['swe']]).values, label='SNOTEL SWE', color='black')\n",
    "ax.plot(pd.concat([uaswe_swe_mean[181:]['date'], uaswe_swe_mean[:181]['date']]).values, pd.concat([uaswe_swe_mean[181:]['UASWE'], uaswe_swe_mean[:181]['UASWE']]).values, label='UA SWE', color='grey')\n",
    "ax.plot(pd.concat([myswe_swe_mean[181:]['date'], myswe_swe_mean[:181]['date']]).values, pd.concat([myswe_swe_mean[181:]['pred_swe_UASWE'], myswe_swe_mean[:181]['pred_swe_UASWE']]).values, label='UA SWE [MY]')\n",
    "ax.plot(pd.concat([lm_swe_mean[181:]['date'], lm_swe_mean[:181]['date']]).values, pd.concat([lm_swe_mean[181:]['pred_swe_LM'], lm_swe_mean[:181]['pred_swe_LM']]).values, label='LM-derived SWE')\n",
    "ax.plot(pd.concat([p2m_swe_mean[181:]['date'], p2m_swe_mean[:181]['date']]).values, pd.concat([p2m_swe_mean[181:]['pred_swe_P2M'], p2m_swe_mean[:181]['pred_swe_P2M']]).values, label='P2M-derived SWE')\n",
    "ax.plot(pd.concat([p3m_swe_mean[181:]['date'], p3m_swe_mean[:181]['date']]).values, pd.concat([p3m_swe_mean[181:]['pred_swe_P3M'], p3m_swe_mean[:181]['pred_swe_P3M']]).values, label='P3M-derived SWE')\n",
    "ax.plot(pd.concat([rf_swe_mean[181:]['date'], rf_swe_mean[:181]['date']]).values, pd.concat([rf_swe_mean[181:]['pred_swe_RF'], rf_swe_mean[:181]['pred_swe_RF']]).values, label='RF-derived SWE')\n",
    "ax.plot(pd.concat([nn_swe_mean[181:]['date'], nn_swe_mean[:181]['date']]).values, pd.concat([nn_swe_mean[181:]['pred_swe_NN'], nn_swe_mean[:181]['pred_swe_NN']]).values, label='NN-derived SWE')\n",
    "ax.set_xticks(ax.get_xticks()[::30])   # tick at every 30th entry\n",
    "ax.set_xticklabels(ax.get_xticks(), rotation=90)\n",
    "ax.set_xticklabels(list(pd.concat([snotel_swe_mean[181:]['date'], snotel_swe_mean[:181]['date']]).values)[::30])    # tick labels at every 30th entry\n",
    "ax.set_title('Mean SWE on Each Date Across Sites and Years')\n",
    "ax.set_ylabel('Mean SWE (mm)')\n",
    "ax.set_xlabel('Date')\n",
    "ax.legend()\n",
    "# ax.set_ylim(0,700)\n",
    "# ax.axhline(200, linestyle='--', color='lightgrey')\n",
    "# plt.savefig(f'{save_dir}{mode}/mean_swe_ts.png', dpi=300)"
   ]
  },
  {
   "cell_type": "code",
   "execution_count": null,
   "id": "b43f56c9-a1ee-4171-a265-13ec70ba7aad",
   "metadata": {},
   "outputs": [],
   "source": []
  }
 ],
 "metadata": {
  "kernelspec": {
   "display_name": "NERSC Python",
   "language": "python",
   "name": "python3"
  },
  "language_info": {
   "codemirror_mode": {
    "name": "ipython",
    "version": 3
   },
   "file_extension": ".py",
   "mimetype": "text/x-python",
   "name": "python",
   "nbconvert_exporter": "python",
   "pygments_lexer": "ipython3",
   "version": "3.11.7"
  }
 },
 "nbformat": 4,
 "nbformat_minor": 5
}
