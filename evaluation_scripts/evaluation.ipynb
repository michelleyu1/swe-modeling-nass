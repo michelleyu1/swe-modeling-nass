{
 "cells": [
  {
   "cell_type": "code",
   "execution_count": null,
   "id": "56f88671-b295-4ad7-b4fb-dfda07aacf3d",
   "metadata": {
    "tags": []
   },
   "outputs": [],
   "source": [
    "import os\n",
    "import datetime\n",
    "import numpy as np\n",
    "import pandas as pd\n",
    "import seaborn as sns\n",
    "import matplotlib.pyplot as plt\n",
    "\n",
    "from sklearn.metrics import r2_score\n",
    "from sklearn.metrics import mean_squared_error"
   ]
  },
  {
   "cell_type": "code",
   "execution_count": null,
   "id": "764e5078-697b-4fda-8896-359fbcedcbf6",
   "metadata": {
    "tags": []
   },
   "outputs": [],
   "source": [
    "run_root_dir = '../results/dswe/pr_temp_tmin_tmax_dah_trasp_elev_slopeGTOPO_aspectGTOPO_pr_t7_temp_t7_tmin_t7_tmax_t7/'"
   ]
  },
  {
   "cell_type": "code",
   "execution_count": null,
   "id": "96dd1308-294a-47ce-8d40-6a92593cc9d3",
   "metadata": {
    "tags": []
   },
   "outputs": [],
   "source": [
    "save_dir = run_root_dir+'all_k/'"
   ]
  },
  {
   "cell_type": "code",
   "execution_count": null,
   "id": "e56b2486-062d-4a18-9835-c175a0ed99c1",
   "metadata": {
    "tags": []
   },
   "outputs": [],
   "source": [
    "mode = 'val'   # 'train'"
   ]
  },
  {
   "cell_type": "code",
   "execution_count": null,
   "id": "86181ddf-f8f2-489d-acd7-378ab9408c4f",
   "metadata": {
    "tags": []
   },
   "outputs": [],
   "source": [
    "nfolds = 4"
   ]
  },
  {
   "cell_type": "code",
   "execution_count": null,
   "id": "9e0bbe68-835f-427a-b2a7-8e9372764c87",
   "metadata": {
    "tags": []
   },
   "outputs": [],
   "source": [
    "os.makedirs(save_dir+'train/daily_eval/', exist_ok=True)\n",
    "os.makedirs(save_dir+'val/daily_eval/', exist_ok=True)\n",
    "os.makedirs(save_dir+'train/cum_eval/', exist_ok=True)\n",
    "os.makedirs(save_dir+'val/cum_eval/', exist_ok=True)\n",
    "os.makedirs(save_dir+'train/swe_eval/', exist_ok=True)\n",
    "os.makedirs(save_dir+'val/swe_eval/', exist_ok=True)"
   ]
  },
  {
   "cell_type": "code",
   "execution_count": null,
   "id": "fc8a05a5-e97c-4fcd-b94e-c0f85bc6a446",
   "metadata": {
    "tags": []
   },
   "outputs": [],
   "source": [
    "def calculate_r2_mae_mse(actual, predicted):\n",
    "    mse = np.sum((actual - predicted)**2)/len(actual)\n",
    "    mae = np.mean(abs(predicted - actual))\n",
    "    r2 = 1 - (mse/np.var(actual))\n",
    "    return r2, mae, mse"
   ]
  },
  {
   "cell_type": "code",
   "execution_count": null,
   "id": "7f0c5a25-b5bb-4766-b49a-5a81e187bffd",
   "metadata": {
    "tags": []
   },
   "outputs": [],
   "source": [
    "all_sites_df = pd.read_csv('../data/all_sites_df.csv', index_col=0)"
   ]
  },
  {
   "cell_type": "code",
   "execution_count": null,
   "id": "bbe64fcc-8b59-41b5-8084-bc7547fb790b",
   "metadata": {
    "tags": []
   },
   "outputs": [],
   "source": [
    "features = ['pr', 'tmin', 'tmax', 'temp', 'sd', 'swe_t1', 'dah', 'trasp', 'elev', 'elevGTOPO', 'slopeGTOPO', 'aspectGTOPO', \n",
    "            'pr_t1', 'temp_t1', 'tmin_t1', 'tmax_t1', 'pr_t2', 'temp_t2', 'tmin_t2', 'tmax_t2', 'pr_t3', 'temp_t3', 'tmin_t3', 'tmax_t3', \n",
    "            'pr_t4', 'temp_t4', 'tmin_t4', 'tmax_t4', 'pr_t5', 'temp_t5', 'tmin_t5', 'tmax_t5', 'pr_t6', 'temp_t6', 'tmin_t6', 'tmax_t6', 'pr_t7', 'temp_t7', 'tmin_t7', 'tmax_t7']"
   ]
  },
  {
   "cell_type": "code",
   "execution_count": null,
   "id": "598fa11d-5133-46bb-9ecf-2ff2605a5ae5",
   "metadata": {
    "tags": []
   },
   "outputs": [],
   "source": [
    "nlags = 7"
   ]
  },
  {
   "cell_type": "code",
   "execution_count": null,
   "id": "8c32840b-893d-4c73-aa4c-f3fe3d01e287",
   "metadata": {},
   "outputs": [],
   "source": []
  },
  {
   "cell_type": "code",
   "execution_count": null,
   "id": "bf9cf4dc-f975-4fc4-b609-65b29b37170e",
   "metadata": {
    "tags": []
   },
   "outputs": [],
   "source": [
    "run_daily_dfs_lst = []"
   ]
  },
  {
   "cell_type": "code",
   "execution_count": null,
   "id": "1f7d8034-2a33-406d-ac57-3fb47171ef3c",
   "metadata": {
    "tags": []
   },
   "outputs": [],
   "source": [
    "for k in range(nfolds):\n",
    "    run_fold_daily_dir = f'{run_root_dir}k={k}/daily_eval/{mode}/{mode}_set.csv'\n",
    "    run_fold_daily_df = pd.read_csv(run_fold_daily_dir, index_col=0)\n",
    "    run_daily_dfs_lst.append(run_fold_daily_df)"
   ]
  },
  {
   "cell_type": "code",
   "execution_count": null,
   "id": "8f457e83-4401-463f-bcb8-bbe9949bab40",
   "metadata": {
    "tags": []
   },
   "outputs": [],
   "source": [
    "run_daily_dfs = pd.concat(run_daily_dfs_lst)"
   ]
  },
  {
   "cell_type": "code",
   "execution_count": null,
   "id": "e877daab-6376-44d3-a837-2192e6caf96e",
   "metadata": {
    "tags": []
   },
   "outputs": [],
   "source": [
    "run_daily_dfs = run_daily_dfs[~pd.to_datetime(run_daily_dfs['datetime']).dt.month.isin([7, 8, 9])]"
   ]
  },
  {
   "cell_type": "markdown",
   "id": "4d76e792-50ca-41e3-9f6b-e7845de80c38",
   "metadata": {
    "tags": []
   },
   "source": [
    "##### Begin: Outliers?"
   ]
  },
  {
   "cell_type": "code",
   "execution_count": null,
   "id": "aa499043-cf7c-445c-9a75-987679d704ed",
   "metadata": {
    "tags": []
   },
   "outputs": [],
   "source": [
    "# run_daily_dfs = run_daily_dfs[run_daily_dfs['pred_daily_abl_FIG2_match'] > -100]\n",
    "run_daily_dfs[run_daily_dfs['pred_daily_abl_FIG2_match'] < -1000]"
   ]
  },
  {
   "cell_type": "code",
   "execution_count": null,
   "id": "a17599ff-5bbe-4634-bb97-60e02ecea522",
   "metadata": {
    "tags": []
   },
   "outputs": [],
   "source": [
    "run_daily_dfs[run_daily_dfs['pred_daily_abl_P2M'] > 1000]#[['tmin_t1', 'tmin_t2', 'tmin_t3', 'tmin_t4', 'tmin_t5', 'tmin_t6', 'tmin_t7']]"
   ]
  },
  {
   "cell_type": "code",
   "execution_count": null,
   "id": "09b5f169-4c2a-4fcb-81fa-d3aaa66fd0a6",
   "metadata": {
    "tags": []
   },
   "outputs": [],
   "source": [
    "run_daily_dfs[run_daily_dfs['pred_daily_abl_P3M'] > 1000]#[features[:20]]"
   ]
  },
  {
   "cell_type": "code",
   "execution_count": null,
   "id": "23b61904-f616-4c37-b3fa-052c93a9a1b8",
   "metadata": {
    "tags": []
   },
   "outputs": [],
   "source": [
    "run_daily_dfs[run_daily_dfs['pred_daily_abl_P3M'] < -1000]"
   ]
  },
  {
   "cell_type": "code",
   "execution_count": null,
   "id": "e0953cfb-f287-44f1-9853-7a56131dccb9",
   "metadata": {
    "tags": []
   },
   "outputs": [],
   "source": [
    "run_daily_dfs[run_daily_dfs['pred_daily_abl_P2M'] < -1000]"
   ]
  },
  {
   "cell_type": "code",
   "execution_count": null,
   "id": "a4bdce77-db39-44d7-882e-0279f64d017e",
   "metadata": {
    "tags": []
   },
   "outputs": [],
   "source": [
    "run_daily_dfs.shape"
   ]
  },
  {
   "cell_type": "code",
   "execution_count": null,
   "id": "785969ae-43e7-4809-b2e4-a314ee60f974",
   "metadata": {
    "tags": []
   },
   "outputs": [],
   "source": [
    "print(np.nanmin(run_daily_dfs['daily_abl']), np.nanmax(run_daily_dfs['daily_abl']))\n",
    "print(np.nanmin(run_daily_dfs['pred_daily_abl_FIG2_match']), np.nanmax(run_daily_dfs['pred_daily_abl_FIG2_match']))\n",
    "print(np.nanmin(run_daily_dfs['pred_daily_abl_LM']), np.nanmax(run_daily_dfs['pred_daily_abl_LM']))\n",
    "print(np.nanmin(run_daily_dfs['pred_daily_abl_P2M']), np.nanmax(run_daily_dfs['pred_daily_abl_P2M']))\n",
    "print(np.nanmin(run_daily_dfs['pred_daily_abl_P3M']), np.nanmax(run_daily_dfs['pred_daily_abl_P3M']))\n",
    "print(np.nanmin(run_daily_dfs['pred_daily_abl_RF']), np.nanmax(run_daily_dfs['pred_daily_abl_RF']))\n",
    "print(np.nanmin(run_daily_dfs['pred_daily_abl_NN']), np.nanmax(run_daily_dfs['pred_daily_abl_NN']))"
   ]
  },
  {
   "cell_type": "code",
   "execution_count": null,
   "id": "553a4ddb-24e3-492f-a4cb-2eb8fe3daba8",
   "metadata": {
    "tags": []
   },
   "outputs": [],
   "source": [
    "run_daily_dfs = run_daily_dfs[(run_daily_dfs['pred_daily_abl_P2M'] < 1000)]\n",
    "run_daily_dfs = run_daily_dfs[(run_daily_dfs['pred_daily_abl_P3M'] < 1000)]\n",
    "run_daily_dfs = run_daily_dfs[(run_daily_dfs['pred_daily_abl_P2M'] > -1000)]\n",
    "run_daily_dfs = run_daily_dfs[(run_daily_dfs['pred_daily_abl_P3M'] > -1000)]"
   ]
  },
  {
   "cell_type": "code",
   "execution_count": null,
   "id": "e4cb495d-2005-4897-af88-6e12b46f6816",
   "metadata": {
    "tags": []
   },
   "outputs": [],
   "source": [
    "len(run_daily_dfs)"
   ]
  },
  {
   "cell_type": "markdown",
   "id": "07c7de4f-6b2d-4d8d-b53c-ed749c216ffe",
   "metadata": {
    "tags": []
   },
   "source": [
    "##### End: Outliers?"
   ]
  },
  {
   "cell_type": "markdown",
   "id": "26bbad60-a3c9-4bab-a090-bb12c0b41dbe",
   "metadata": {},
   "source": [
    "### Aggregate"
   ]
  },
  {
   "cell_type": "code",
   "execution_count": null,
   "id": "2989261b-7b14-43e2-bd3c-a9473f9113a9",
   "metadata": {
    "tags": []
   },
   "outputs": [],
   "source": [
    "# run_daily_dfs = run_daily_dfs[run_daily_dfs['pred_daily_abl_FIG2_match'] != -528.0009622082349]\n",
    "# run_daily_dfs = run_daily_dfs[run_daily_dfs['pred_daily_abl_FIG2_match'] != -367.4994889711954]"
   ]
  },
  {
   "cell_type": "code",
   "execution_count": null,
   "id": "d91a3db0-b9af-4979-8952-a4b40e0ab14e",
   "metadata": {
    "tags": []
   },
   "outputs": [],
   "source": [
    "# run_daily_dfs = run_daily_dfs[run_daily_dfs['pred_daily_abl_FIG2_match'] > -1000]"
   ]
  },
  {
   "cell_type": "code",
   "execution_count": null,
   "id": "c18f2c08-3dcf-485c-bf47-e199c9607531",
   "metadata": {
    "tags": []
   },
   "outputs": [],
   "source": [
    "# np.min(run_daily_dfs['pred_daily_abl_LM'])"
   ]
  },
  {
   "cell_type": "code",
   "execution_count": null,
   "id": "459df96d-d2f0-4a66-aa40-751ea98b61a4",
   "metadata": {
    "tags": []
   },
   "outputs": [],
   "source": [
    "# run_daily_dfs[run_daily_dfs['pred_daily_abl_FIG2_match'] == -528.0009622082349].index"
   ]
  },
  {
   "cell_type": "code",
   "execution_count": null,
   "id": "24d5e43d-0860-4371-93a1-8e7b37df230c",
   "metadata": {
    "tags": []
   },
   "outputs": [],
   "source": [
    "# run_daily_dfs[(run_daily_dfs['sitecode'] == '481_UT_SNTL') & (run_daily_dfs['water_year'] == 2002)]"
   ]
  },
  {
   "cell_type": "code",
   "execution_count": null,
   "id": "4bd56436-8733-41c5-ac46-9ceae5c7c4d9",
   "metadata": {
    "tags": []
   },
   "outputs": [],
   "source": [
    "xminimum, xmaximum = min(run_daily_dfs['daily_abl']), max(run_daily_dfs['daily_abl'])\n",
    "yminimum = min(np.min(run_daily_dfs['pred_daily_abl_FIG2_match']), np.min(run_daily_dfs['pred_daily_abl_LM']), np.min(run_daily_dfs['pred_daily_abl_P2M']), np.min(run_daily_dfs['pred_daily_abl_P3M']), np.min(run_daily_dfs['pred_daily_abl_RF']), np.min(run_daily_dfs['pred_daily_abl_NN'])) \n",
    "ymaximum = max(np.max(run_daily_dfs['pred_daily_abl_FIG2_match']), np.max(run_daily_dfs['pred_daily_abl_LM']), np.max(run_daily_dfs['pred_daily_abl_P2M']), np.max(run_daily_dfs['pred_daily_abl_P3M']), np.max(run_daily_dfs['pred_daily_abl_RF']), np.max(run_daily_dfs['pred_daily_abl_NN'])) \n",
    "minimum, maximum = min(xminimum, yminimum), max(xmaximum, ymaximum)\n",
    "\n",
    "fig, axes = plt.subplots(2, 3, figsize=(18,10))\n",
    "axes[0, 0].plot(run_daily_dfs['daily_abl'], run_daily_dfs['pred_daily_abl_FIG2_match'], 'bo', markersize=1, alpha=0.2) #row=0, col=0\n",
    "axes[0, 1].plot(run_daily_dfs['daily_abl'], run_daily_dfs['pred_daily_abl_LM'], 'bo', markersize=1, alpha=0.2) #row=0, col=0\n",
    "axes[0, 2].plot(run_daily_dfs['daily_abl'], run_daily_dfs['pred_daily_abl_P2M'], 'bo', markersize=1, alpha=0.2) #row=1, col=0\n",
    "axes[1, 0].plot(run_daily_dfs['daily_abl'], run_daily_dfs['pred_daily_abl_P3M'], 'bo', markersize=1, alpha=0.2) #row=0, col=1\n",
    "axes[1, 1].plot(run_daily_dfs['daily_abl'], run_daily_dfs['pred_daily_abl_RF'], 'bo', markersize=1, alpha=0.2) #row=1, col=1\n",
    "axes[1, 2].plot(run_daily_dfs['daily_abl'], run_daily_dfs['pred_daily_abl_NN'], 'bo', markersize=1, alpha=0.2) #row=1, col=1\n",
    "for i in range(2):\n",
    "    for j in range(3):\n",
    "        # if i != 1 or j != 2:\n",
    "        axes[i,j].axline([0, 0], slope=1, color='grey', alpha=0.75)\n",
    "        axes[i,j].axhline(0, xmin=minimum, xmax=maximum, color='red', alpha=0.5)\n",
    "        axes[i,j].axvline(0, ymin=minimum, ymax=maximum, color='red', alpha=0.5)\n",
    "        axes[i,j].set_xlim(minimum, maximum)\n",
    "        axes[i,j].set_ylim(minimum, maximum)\n",
    "        axes[i,j].set_xlabel('True Daily Ablation (mm)')\n",
    "# axes[-1, -1].axis('off')\n",
    "axes[0, 0].set_ylabel('UASWE Predicted Daily Ablation (mm)')\n",
    "axes[0, 1].set_ylabel('LM Predicted Daily Ablation (mm)')\n",
    "axes[0, 2].set_ylabel('P2M Predicted Daily Ablation (mm)')\n",
    "axes[1, 0].set_ylabel('P3M Predicted Daily Ablation (mm)')\n",
    "axes[1, 1].set_ylabel('RF Predicted Daily Ablation (mm)')\n",
    "axes[1, 2].set_ylabel('NN Predicted Daily Ablation (mm)')\n",
    "plt.savefig(f'{save_dir}{mode}/daily_eval/daily_abl_scatter.png', dpi=300)\n",
    "# plt.savefig(f'{save_dir}{mode}/daily_eval/daily_abl_scatter_no_outlier.png', dpi=300)\n",
    "# plt.show()"
   ]
  },
  {
   "cell_type": "code",
   "execution_count": null,
   "id": "192aefba-710a-496a-99d2-0f5036d58637",
   "metadata": {
    "tags": []
   },
   "outputs": [],
   "source": [
    "# FIX THE y=x LINE AND x=0 LINE!!!\n",
    "fig, axes = plt.subplots(2, 3, figsize=(30,10))\n",
    "sns.boxplot(data=run_daily_dfs.round(2), x='daily_abl', y='pred_daily_abl_FIG2_match', ax=axes[0,0], flierprops={'marker': '.', 'markersize': 5})\n",
    "sns.boxplot(data=run_daily_dfs.round(2), x='daily_abl', y='pred_daily_abl_LM', ax=axes[0,1], flierprops={'marker': '.', 'markersize': 5})\n",
    "sns.boxplot(data=run_daily_dfs.round(2), x='daily_abl', y='pred_daily_abl_P2M', ax=axes[0,2], flierprops={'marker': '.', 'markersize': 5})\n",
    "sns.boxplot(data=run_daily_dfs.round(2), x='daily_abl', y='pred_daily_abl_P3M', ax=axes[1,0], flierprops={'marker': '.', 'markersize': 5})\n",
    "sns.boxplot(data=run_daily_dfs.round(2), x='daily_abl', y='pred_daily_abl_RF', ax=axes[1,1], flierprops={'marker': '.', 'markersize': 5})\n",
    "sns.boxplot(data=run_daily_dfs.round(2), x='daily_abl', y='pred_daily_abl_NN', ax=axes[1,2], flierprops={'marker': '.', 'markersize': 5})\n",
    "for i in range(2):\n",
    "    for j in range(3):\n",
    "        axes[i,j].set_xticklabels(labels=np.unique(run_daily_dfs['daily_abl'].round(2)), rotation=90)\n",
    "        # axes[i,j].axline([0, 0], slope=1, color='grey', linestyle='--', alpha=0.5)\n",
    "        axes[i,j].axhline(0, xmin=np.unique(run_daily_dfs['daily_abl'].round(2))[0], xmax=np.unique(run_daily_dfs['daily_abl'].round(2))[-1], color='grey', linestyle='--', alpha=0.5)\n",
    "        # axes[i,j].axvline(0, ymin=minimum, ymax=maximum, color='grey', linestyle='--', alpha=0.5)\n",
    "        axes[i,j].set_ylim(yminimum, ymaximum)\n",
    "        # axes[i,j].set_ylim(-50, 80)\n",
    "        # axes[i,j].set_xlabel('True Daily Ablation (mm)')\n",
    "plt.savefig(f'{save_dir}{mode}/daily_eval/daily_abl_scatter_boxplot.png', dpi=300)\n",
    "# plt.savefig(f'{save_dir}{mode}/daily_eval/daily_abl_scatter_boxplot_no_outlier.png', dpi=300)"
   ]
  },
  {
   "cell_type": "code",
   "execution_count": null,
   "id": "5b27661c-2a90-4176-ac33-f060fd1a8dcd",
   "metadata": {
    "tags": []
   },
   "outputs": [],
   "source": [
    "daily_UASWE_r2, daily_UASWE_mse = calculate_r2_mse(run_daily_dfs['daily_abl'], run_daily_dfs['pred_daily_abl_FIG2_match'])\n",
    "daily_LM_r2, daily_LM_mse = calculate_r2_mse(run_daily_dfs['daily_abl'], run_daily_dfs['pred_daily_abl_LM'])\n",
    "daily_P2M_r2, daily_P2M_mse = calculate_r2_mse(run_daily_dfs['daily_abl'], run_daily_dfs['pred_daily_abl_P2M'])\n",
    "daily_P3M_r2, daily_P3M_mse = calculate_r2_mse(run_daily_dfs['daily_abl'], run_daily_dfs['pred_daily_abl_P3M'])\n",
    "daily_RF_r2, daily_RF_mse = calculate_r2_mse(run_daily_dfs['daily_abl'], run_daily_dfs['pred_daily_abl_RF'])\n",
    "daily_NN_r2, daily_NN_mse = calculate_r2_mse(run_daily_dfs['daily_abl'], run_daily_dfs['pred_daily_abl_NN'])"
   ]
  },
  {
   "cell_type": "code",
   "execution_count": null,
   "id": "cff96fcf-6de5-4437-8848-10ac771b5bd3",
   "metadata": {
    "tags": []
   },
   "outputs": [],
   "source": [
    "print(daily_UASWE_r2, daily_LM_r2, daily_P2M_r2, daily_P3M_r2, daily_RF_r2, daily_NN_r2)\n",
    "print(daily_UASWE_mse, daily_LM_mse, daily_P2M_mse, daily_P3M_mse, daily_RF_mse, daily_NN_mse)"
   ]
  },
  {
   "cell_type": "code",
   "execution_count": null,
   "id": "c2d34296-5de9-40a0-ae03-57f5c83aaa34",
   "metadata": {
    "tags": []
   },
   "outputs": [],
   "source": [
    "daily_UASWE_r2, daily_UASWE_mae, daily_UASWE_mse = calculate_r2_mse(run_daily_dfs[['daily_abl', 'pred_daily_abl_FIG2_match']].dropna()['daily_abl'], \n",
    "                                                                   run_daily_dfs[['daily_abl', 'pred_daily_abl_FIG2_match']].dropna()['pred_daily_abl_FIG2_match'])\n",
    "daily_LM_r2, daily_LM_mae, daily_LM_mse = calculate_r2_mse(run_daily_dfs[['daily_abl', 'pred_daily_abl_LM']].dropna()['daily_abl'], \n",
    "                                             run_daily_dfs[['daily_abl', 'pred_daily_abl_LM']].dropna()['pred_daily_abl_LM'])\n",
    "daily_P2M_r2, daily_P2M_mae, daily_P2M_mse = calculate_r2_mse(run_daily_dfs[['daily_abl', 'pred_daily_abl_P2M']].dropna()['daily_abl'], \n",
    "                                               run_daily_dfs[['daily_abl', 'pred_daily_abl_P2M']].dropna()['pred_daily_abl_P2M'])\n",
    "daily_P3M_r2, daily_P3M_mae, daily_P3M_mse = calculate_r2_mse(run_daily_dfs[['daily_abl', 'pred_daily_abl_P3M']].dropna()['daily_abl'], \n",
    "                                               run_daily_dfs[['daily_abl', 'pred_daily_abl_P3M']].dropna()['pred_daily_abl_P3M'])\n",
    "daily_RF_r2, daily_RF_mae, daily_RF_mse = calculate_r2_mse(run_daily_dfs[['daily_abl', 'pred_daily_abl_RF']].dropna()['daily_abl'], \n",
    "                                             run_daily_dfs[['daily_abl', 'pred_daily_abl_RF']].dropna()['pred_daily_abl_RF'])\n",
    "daily_NN_r2, daily_NN_mae, daily_NN_mse = calculate_r2_mse(run_daily_dfs[['daily_abl', 'pred_daily_abl_NN']].dropna()['daily_abl'], \n",
    "                                             run_daily_dfs[['daily_abl', 'pred_daily_abl_NN']].dropna()['pred_daily_abl_NN'])"
   ]
  },
  {
   "cell_type": "code",
   "execution_count": null,
   "id": "62d00bd7-cd4b-418a-b76f-b9f76c1dae22",
   "metadata": {
    "tags": []
   },
   "outputs": [],
   "source": [
    "calculate_r2_mse(run_daily_dfs[run_daily_dfs['pred_daily_abl_FIG2_match'] > -100][['daily_abl', 'pred_daily_abl_FIG2_match']].dropna()['daily_abl'], \n",
    "                 run_daily_dfs[run_daily_dfs['pred_daily_abl_FIG2_match'] > -100][['daily_abl', 'pred_daily_abl_FIG2_match']].dropna()['pred_daily_abl_FIG2_match'])\n"
   ]
  },
  {
   "cell_type": "code",
   "execution_count": null,
   "id": "2a47dc98-5d36-43f2-9534-ee9d998f23c9",
   "metadata": {
    "tags": []
   },
   "outputs": [],
   "source": [
    "print(daily_UASWE_r2, daily_LM_r2, daily_P2M_r2, daily_P3M_r2, daily_RF_r2, daily_NN_r2)\n",
    "print(daily_UASWE_mse, daily_LM_mse, daily_P2M_mse, daily_P3M_mse, daily_RF_mse, daily_NN_mse)"
   ]
  },
  {
   "cell_type": "code",
   "execution_count": null,
   "id": "0a9e935d-3c8d-49c2-98fe-248a98b2c45f",
   "metadata": {
    "tags": []
   },
   "outputs": [],
   "source": [
    "print(daily_UASWE_r2, daily_LM_r2, daily_P2M_r2, daily_P3M_r2, daily_RF_r2, daily_NN_r2)\n",
    "print(daily_UASWE_mse, daily_LM_mse, daily_P2M_mse, daily_P3M_mse, daily_RF_mse, daily_NN_mse)"
   ]
  },
  {
   "cell_type": "code",
   "execution_count": null,
   "id": "e16f927d-73b3-48cb-bea9-4afec8d8d9c4",
   "metadata": {
    "tags": []
   },
   "outputs": [],
   "source": [
    "print(daily_UASWE_r2, daily_LM_r2, daily_P2M_r2, daily_P3M_r2, daily_RF_r2, daily_NN_r2)\n",
    "print(daily_UASWE_mse, daily_LM_mse, daily_P2M_mse, daily_P3M_mse, daily_RF_mse, daily_NN_mse)"
   ]
  },
  {
   "cell_type": "code",
   "execution_count": null,
   "id": "df5a147e-ea17-4b41-bb39-b9c8412800af",
   "metadata": {},
   "outputs": [],
   "source": []
  },
  {
   "cell_type": "code",
   "execution_count": null,
   "id": "3c5ead9f-708e-462b-b916-8c8e97d9a8b2",
   "metadata": {
    "tags": []
   },
   "outputs": [],
   "source": [
    "print(daily_UASWE_r2, daily_LM_r2, daily_P2M_r2, daily_P3M_r2, daily_RF_r2, daily_NN_r2)\n",
    "print(daily_UASWE_mse, daily_LM_mse, daily_P2M_mse, daily_P3M_mse, daily_RF_mse, daily_NN_mse)"
   ]
  },
  {
   "cell_type": "code",
   "execution_count": null,
   "id": "9ab677ec-bdf4-4fda-8b3e-eb1904eea34c",
   "metadata": {
    "tags": []
   },
   "outputs": [],
   "source": [
    "print(daily_UASWE_r2, daily_LM_r2, daily_P2M_r2, daily_P3M_r2, daily_RF_r2, daily_NN_r2)\n",
    "print(daily_UASWE_mse, daily_LM_mse, daily_P2M_mse, daily_P3M_mse, daily_RF_mse, daily_NN_mse)"
   ]
  },
  {
   "cell_type": "code",
   "execution_count": null,
   "id": "b9b6e93a-8be0-4b0c-98c5-1244ec8c9b42",
   "metadata": {
    "tags": []
   },
   "outputs": [],
   "source": [
    "print(daily_UASWE_r2, daily_LM_r2, daily_P2M_r2, daily_P3M_r2, daily_RF_r2, daily_NN_r2)\n",
    "print(daily_UASWE_mse, daily_LM_mse, daily_P2M_mse, daily_P3M_mse, daily_RF_mse, daily_NN_mse)"
   ]
  },
  {
   "cell_type": "code",
   "execution_count": null,
   "id": "7d5a5a60-fc34-4222-afd8-876cf78200df",
   "metadata": {
    "tags": []
   },
   "outputs": [],
   "source": [
    "print(daily_UASWE_r2, daily_LM_r2, daily_P2M_r2, daily_P3M_r2, daily_RF_r2, daily_NN_r2)\n",
    "print(daily_UASWE_mse, daily_LM_mse, daily_P2M_mse, daily_P3M_mse, daily_RF_mse, daily_NN_mse)"
   ]
  },
  {
   "cell_type": "code",
   "execution_count": null,
   "id": "cf632c39-eff4-40c0-8e10-8f6441830c62",
   "metadata": {
    "tags": []
   },
   "outputs": [],
   "source": [
    "print(daily_UASWE_r2, daily_LM_r2, daily_P2M_r2, daily_P3M_r2, daily_RF_r2, daily_NN_r2)\n",
    "print(daily_UASWE_mse, daily_LM_mse, daily_P2M_mse, daily_P3M_mse, daily_RF_mse, daily_NN_mse)"
   ]
  },
  {
   "cell_type": "code",
   "execution_count": null,
   "id": "7e4bedc2-bf44-4cd8-ab4a-9ff80d2de132",
   "metadata": {
    "tags": []
   },
   "outputs": [],
   "source": [
    "# np.sum() and np.mean() replace NANs with 0.0"
   ]
  },
  {
   "cell_type": "code",
   "execution_count": null,
   "id": "06264f20-4b11-4233-9d0f-69808770086a",
   "metadata": {
    "tags": []
   },
   "outputs": [],
   "source": [
    "daily_metrics = {'UA SWE Reg': [daily_UASWE_mse, daily_UASWE_mae, daily_UASWE_r2],\n",
    "        'Lin Reg': [daily_LM_mse, daily_LM_mae, daily_LM_r2],\n",
    "        'Quad Reg': [daily_P2M_mse, daily_P2M_mae, daily_P2M_r2],\n",
    "        # # 'Quad Reg w/ Int': [p2im_mse, p2im_mae, p2im_rsq],\n",
    "        'Cub Reg': [daily_P3M_mse, daily_P3M_mae, daily_P3M_r2],\n",
    "        'RF': [daily_RF_mse, daily_RF_mae, daily_RF_r2],\n",
    "        'NN': [daily_NN_mse, daily_NN_mae, daily_NN_r2]\n",
    "        # # 'GLM': [glm_mse, glm_mae, glm_rsq]\n",
    "       }"
   ]
  },
  {
   "cell_type": "code",
   "execution_count": null,
   "id": "1dd16fa7-e9f8-4198-ad8c-9d8bd5f6c33b",
   "metadata": {
    "tags": []
   },
   "outputs": [],
   "source": [
    "# Creates pandas DataFrame.\n",
    "daily_metrics_df = pd.DataFrame(daily_metrics, index=['MSE', 'MAE', 'R2'])"
   ]
  },
  {
   "cell_type": "code",
   "execution_count": null,
   "id": "78c3e1b7-dde9-4f5f-be26-5d77b63b412b",
   "metadata": {
    "tags": []
   },
   "outputs": [],
   "source": [
    "daily_metrics_df"
   ]
  },
  {
   "cell_type": "code",
   "execution_count": null,
   "id": "fabde56b-4db8-4b05-9e8f-248c6af9e79c",
   "metadata": {
    "tags": []
   },
   "outputs": [],
   "source": [
    "daily_metrics_df.to_csv(f'{save_dir}{mode}/daily_eval/daily_abl_metrics.csv')\n",
    "# daily_metrics_df.to_csv(f'{save_dir}{mode}/daily_eval/daily_abl_metrics_no_outlier.csv')"
   ]
  },
  {
   "cell_type": "markdown",
   "id": "cdb4ab0a-a253-4c36-a413-c3b9fd127cf5",
   "metadata": {
    "tags": []
   },
   "source": [
    "### Climatological"
   ]
  },
  {
   "cell_type": "code",
   "execution_count": null,
   "id": "547e6ecb-a3ec-42df-9d41-4ca39d8af6fe",
   "metadata": {
    "tags": []
   },
   "outputs": [],
   "source": [
    "freqs = run_daily_dfs.groupby([(pd.to_datetime(run_daily_dfs['datetime']).dt.month),(pd.to_datetime(run_daily_dfs['datetime']).dt.day)])['pred_daily_abl_LM'].size()\n",
    "freqs.index.names=['Month', 'Day']\n",
    "freqs = freqs.to_frame()"
   ]
  },
  {
   "cell_type": "code",
   "execution_count": null,
   "id": "6fe5a356-f01e-4fcf-885f-af6c903032d8",
   "metadata": {
    "tags": []
   },
   "outputs": [],
   "source": [
    "# create datetime column in freqs df"
   ]
  },
  {
   "cell_type": "code",
   "execution_count": null,
   "id": "80880551-17c0-432e-a864-6e178299e001",
   "metadata": {
    "tags": []
   },
   "outputs": [],
   "source": [
    "freqs['date'] = freqs.index.get_level_values('Month').astype(str) + '-' + freqs.index.get_level_values('Day').astype(str)"
   ]
  },
  {
   "cell_type": "code",
   "execution_count": null,
   "id": "2919e211-ee1e-4ad2-b4a6-d6bbd928b281",
   "metadata": {
    "tags": []
   },
   "outputs": [],
   "source": [
    "freqs['month'] = [str(i).zfill(2) for i in freqs.index.get_level_values('Month')]"
   ]
  },
  {
   "cell_type": "code",
   "execution_count": null,
   "id": "de2e8d4f-e388-4b16-b2cf-41fb58e81108",
   "metadata": {
    "tags": []
   },
   "outputs": [],
   "source": [
    "freqs['day'] = [str(i).zfill(2) for i in freqs.index.get_level_values('Day')]"
   ]
  },
  {
   "cell_type": "code",
   "execution_count": null,
   "id": "22a27029-7ad5-4850-ad6c-b2c64b4dbfe4",
   "metadata": {
    "tags": []
   },
   "outputs": [],
   "source": [
    "freqs['datetime'] = [datetime.datetime(2001, int(row['month']), int(row['day'])) for idx, row in freqs.iterrows()]"
   ]
  },
  {
   "cell_type": "code",
   "execution_count": null,
   "id": "a7fddade-925d-4732-a1bf-fab48f4dac55",
   "metadata": {
    "tags": []
   },
   "outputs": [],
   "source": []
  },
  {
   "cell_type": "code",
   "execution_count": null,
   "id": "ef444e14-45db-4c50-ba5a-87f3d85b0608",
   "metadata": {
    "tags": []
   },
   "outputs": [],
   "source": [
    "# separate df of all dates in a year"
   ]
  },
  {
   "cell_type": "code",
   "execution_count": null,
   "id": "7407106b-491f-4907-a14c-e951c9109769",
   "metadata": {
    "tags": []
   },
   "outputs": [],
   "source": [
    "yr_dates = pd.date_range(start=\"2001-01-01\",end=\"2001-12-31\").to_frame(name='datetime')"
   ]
  },
  {
   "cell_type": "code",
   "execution_count": null,
   "id": "90130818-a899-44f4-bf7e-a234ea471e09",
   "metadata": {
    "tags": []
   },
   "outputs": [],
   "source": [
    "yr_dates['month'] = [str(i).zfill(2) for i in pd.to_datetime(yr_dates['datetime']).dt.month]"
   ]
  },
  {
   "cell_type": "code",
   "execution_count": null,
   "id": "d6afeda0-af33-4d32-9501-a5d97436522c",
   "metadata": {
    "tags": []
   },
   "outputs": [],
   "source": [
    "yr_dates['day'] = [str(i).zfill(2) for i in pd.to_datetime(yr_dates['datetime']).dt.day]"
   ]
  },
  {
   "cell_type": "code",
   "execution_count": null,
   "id": "6a0bd4e2-35c1-4886-aab7-afd99e06673f",
   "metadata": {
    "tags": []
   },
   "outputs": [],
   "source": [
    "yr_dates['date'] = pd.to_datetime(yr_dates['datetime']).dt.month.astype(str) + '-' + pd.to_datetime(yr_dates['datetime']).dt.day.astype(str)"
   ]
  },
  {
   "cell_type": "code",
   "execution_count": null,
   "id": "18528031-25fe-4583-a9b3-6794015fe378",
   "metadata": {},
   "outputs": [],
   "source": []
  },
  {
   "cell_type": "code",
   "execution_count": null,
   "id": "25b1d0c0-3068-4eed-9aa4-8ba6a0e04047",
   "metadata": {
    "tags": []
   },
   "outputs": [],
   "source": [
    "# merge dfs"
   ]
  },
  {
   "cell_type": "code",
   "execution_count": null,
   "id": "7e6f4490-974f-47bb-a51d-51321219d075",
   "metadata": {
    "tags": []
   },
   "outputs": [],
   "source": [
    "full_yr = freqs.merge(yr_dates, how='outer', on=['datetime', 'month', 'day', 'date']).fillna(0, inplace = False).sort_values(by='datetime', ascending=True)"
   ]
  },
  {
   "cell_type": "code",
   "execution_count": null,
   "id": "038963ae-4edd-4d45-b63c-6c9805d8c637",
   "metadata": {
    "tags": []
   },
   "outputs": [],
   "source": [
    "full_yr = full_yr.reset_index(drop=True)"
   ]
  },
  {
   "cell_type": "code",
   "execution_count": null,
   "id": "6a7227c5-4928-4a83-a516-92bcd44bff35",
   "metadata": {},
   "outputs": [],
   "source": []
  },
  {
   "cell_type": "code",
   "execution_count": null,
   "id": "bba3d7cb-4dbe-4f5a-aa43-7da76eb94db1",
   "metadata": {
    "tags": []
   },
   "outputs": [],
   "source": [
    "# 10042023\n",
    "fig, ax = plt.subplots(figsize=(24, 8))\n",
    "ax.plot(pd.concat([full_yr[273:]['date'], full_yr[:181]['date']]).values, pd.concat([full_yr[273:]['pred_daily_abl_LM'], full_yr[:181]['pred_daily_abl_LM']]).values, label='SNOTEL SWE', color='black')\n",
    "ax.set_xticks(ax.get_xticks()[::30])   # tick at every 30th entry\n",
    "ax.set_xticklabels(ax.get_xticks(), rotation=90)\n",
    "ax.set_xticklabels(list(pd.concat([full_yr[273:]['date'], full_yr[:181]['date']]).values)[::30])    # tick labels at every 30th entry\n",
    "ax.set_title('Frequency of Site-Years in Post-Processed Validation Set')\n",
    "ax.set_ylabel('Number of Site-Years')\n",
    "ax.set_xlabel('Date')\n",
    "# ax.axhline(5, color='grey', linestyle='--', linewidth=0.8)\n",
    "# ax.axhline(2, color='grey', linestyle='--', linewidth=0.8)\n",
    "# ax.axhline(1, color='grey', linestyle='--', linewidth=0.8)\n",
    "ax.axhline(0, color='grey', linestyle='--', linewidth=0.8)\n",
    "ax.legend()\n",
    "# ax.axhline(200, linestyle='--', color='lightgrey')\n",
    "plt.savefig(f'{save_dir}{mode}/daily_eval/freq_by_date.png', dpi=300)"
   ]
  },
  {
   "cell_type": "code",
   "execution_count": null,
   "id": "b22e56eb-ed5a-41ed-9831-1307c880c2d9",
   "metadata": {},
   "outputs": [],
   "source": []
  },
  {
   "cell_type": "markdown",
   "id": "64f33535-f663-43e2-92ac-4e6fe10e7282",
   "metadata": {
    "tags": []
   },
   "source": [
    "##### Maybe Use: Begin"
   ]
  },
  {
   "cell_type": "code",
   "execution_count": null,
   "id": "3a98f106-4c05-4104-971c-7c225067ac32",
   "metadata": {
    "tags": []
   },
   "outputs": [],
   "source": [
    "UASWE_metrics = run_daily_dfs[['datetime', 'daily_abl', 'pred_daily_abl_FIG2_match']].rename(columns={'daily_abl':'Actual', 'pred_daily_abl_FIG2_match':'Predicted'}).groupby([pd.to_datetime(run_daily_dfs['datetime']).dt.month, pd.to_datetime(run_daily_dfs['datetime']).dt.day]).apply(metrics)\n",
    "UASWE_metrics.index.names=['Month','Day']\n",
    "# UASWE_metrics.index.get_level_values('Month')\n",
    "# UASWE_metrics = UASWE_metrics.drop([7,8,9], level='Month')\n",
    "\n",
    "LM_metrics = run_daily_dfs[['datetime', 'daily_abl', 'pred_daily_abl_LM']].rename(columns={'daily_abl':'Actual', 'pred_daily_abl_LM':'Predicted'}).groupby([pd.to_datetime(run_daily_dfs['datetime']).dt.month, pd.to_datetime(run_daily_dfs['datetime']).dt.day]).apply(metrics)\n",
    "LM_metrics.index.names=['Month','Day']\n",
    "# LM_metrics.index.get_level_values('Month')\n",
    "# LM_metrics = LM_metrics.drop([7,8,9], level='Month')\n",
    "\n",
    "P2M_metrics = run_daily_dfs[['datetime', 'daily_abl', 'pred_daily_abl_P2M']].rename(columns={'daily_abl':'Actual', 'pred_daily_abl_P2M':'Predicted'}).groupby([pd.to_datetime(run_daily_dfs['datetime']).dt.month, pd.to_datetime(run_daily_dfs['datetime']).dt.day]).apply(metrics)\n",
    "P2M_metrics.index.names=['Month','Day']\n",
    "# P2M_metrics.index.get_level_values('Month')\n",
    "# P2M_metrics = P2M_metrics.drop([7,8,9], level='Month')\n",
    "\n",
    "P3M_metrics = run_daily_dfs[['datetime', 'daily_abl', 'pred_daily_abl_P3M']].rename(columns={'daily_abl':'Actual', 'pred_daily_abl_P3M':'Predicted'}).groupby([pd.to_datetime(run_daily_dfs['datetime']).dt.month, pd.to_datetime(run_daily_dfs['datetime']).dt.day]).apply(metrics)\n",
    "P3M_metrics.index.names=['Month','Day']\n",
    "# P3M_metrics.index.get_level_values('Month')\n",
    "# P3M_metrics = P3M_metrics.drop([7,8,9], level='Month')\n",
    "\n",
    "RF_metrics = run_daily_dfs[['datetime', 'daily_abl', 'pred_daily_abl_RF']].rename(columns={'daily_abl':'Actual', 'pred_daily_abl_RF':'Predicted'}).groupby([pd.to_datetime(run_daily_dfs['datetime']).dt.month, pd.to_datetime(run_daily_dfs['datetime']).dt.day]).apply(metrics)\n",
    "RF_metrics.index.names=['Month','Day']\n",
    "# RF_metrics.index.get_level_values('Month')\n",
    "# RF_metrics = RF_metrics.drop([7,8,9], level='Month')\n",
    "\n",
    "NN_metrics = run_daily_dfs[['datetime', 'daily_abl', 'pred_daily_abl_NN']].rename(columns={'daily_abl':'Actual', 'pred_daily_abl_NN':'Predicted'}).groupby([pd.to_datetime(run_daily_dfs['datetime']).dt.month, pd.to_datetime(run_daily_dfs['datetime']).dt.day]).apply(metrics)\n",
    "NN_metrics.index.names=['Month','Day']\n",
    "# NN_metrics.index.get_level_values('Month')\n",
    "# NN_metrics = NN_metrics.drop([7,8,9], level='Month')"
   ]
  },
  {
   "cell_type": "code",
   "execution_count": null,
   "id": "1fe53cd4-1e61-426d-967f-62b4f10f1fbe",
   "metadata": {
    "tags": []
   },
   "outputs": [],
   "source": [
    "UASWE_metrics['date'] = UASWE_metrics.index.get_level_values('Month').astype(str) + '-' + UASWE_metrics.index.get_level_values('Day').astype(str)\n",
    "LM_metrics['date'] = LM_metrics.index.get_level_values('Month').astype(str) + '-' + LM_metrics.index.get_level_values('Day').astype(str)\n",
    "P2M_metrics['date'] = P2M_metrics.index.get_level_values('Month').astype(str) + '-' + P2M_metrics.index.get_level_values('Day').astype(str)\n",
    "P3M_metrics['date'] = P3M_metrics.index.get_level_values('Month').astype(str) + '-' + P3M_metrics.index.get_level_values('Day').astype(str)\n",
    "RF_metrics['date'] = RF_metrics.index.get_level_values('Month').astype(str) + '-' + RF_metrics.index.get_level_values('Day').astype(str)\n",
    "NN_metrics['date'] = NN_metrics.index.get_level_values('Month').astype(str) + '-' + NN_metrics.index.get_level_values('Day').astype(str)"
   ]
  },
  {
   "cell_type": "code",
   "execution_count": null,
   "id": "d1943366-4da5-4f8c-97ff-e86d5f11651d",
   "metadata": {
    "tags": []
   },
   "outputs": [],
   "source": [
    "plt.clf()\n",
    "fig, ax = plt.subplots(figsize=(24, 6))\n",
    "ax.plot(pd.concat([UASWE_metrics[181:]['date'], UASWE_metrics[:181]['date']]).values, pd.concat([UASWE_metrics[181:]['mse'], UASWE_metrics[:181]['mse']]).values, label='UA', color='black')\n",
    "ax.plot(pd.concat([LM_metrics[181:]['date'], LM_metrics[:181]['date']]).values, pd.concat([LM_metrics[181:]['mse'], LM_metrics[:181]['mse']]).values, label='LM')\n",
    "ax.plot(pd.concat([P2M_metrics[181:]['date'], P2M_metrics[:181]['date']]).values, pd.concat([P2M_metrics[181:]['mse'], P2M_metrics[:181]['mse']]).values, label='P2M')\n",
    "ax.plot(pd.concat([P3M_metrics[181:]['date'], P3M_metrics[:181]['date']]).values, pd.concat([P3M_metrics[181:]['mse'], P3M_metrics[:181]['mse']]).values, label='P3M')\n",
    "ax.plot(pd.concat([RF_metrics[181:]['date'], RF_metrics[:181]['date']]).values, pd.concat([RF_metrics[181:]['mse'], RF_metrics[:181]['mse']]).values, label='RF')\n",
    "ax.plot(pd.concat([NN_metrics[181:]['date'], NN_metrics[:181]['date']]).values, pd.concat([NN_metrics[181:]['mse'], NN_metrics[:181]['mse']]).values, label='NN')\n",
    "ax.set_xticks(ax.get_xticks()[::30])   # tick at every 30th entry\n",
    "ax.set_xticklabels(ax.get_xticks(), rotation=90)\n",
    "ax.set_xticklabels(list(pd.concat([UASWE_metrics[181:]['date'], UASWE_metrics[:181]['date']]).values)[::30])    # tick labels at every 30th entry\n",
    "ax.set_title('Cumulative Ablation: MSE')\n",
    "ax.legend()\n",
    "# ax.axhline(200, linestyle='--', color='lightgrey')\n",
    "# plt.savefig(f'{save_pth}cum_eval/climatological_scheme/{mode}/cum_abl_mse_plot.png', dpi=300)\n",
    "plt.show()\n",
    "\n",
    "plt.clf()\n",
    "fig, ax = plt.subplots(figsize=(24, 6))\n",
    "ax.plot(pd.concat([UASWE_metrics[181:]['date'], UASWE_metrics[:181]['date']]).values, pd.concat([UASWE_metrics[181:]['rmse'], UASWE_metrics[:181]['rmse']]).values, label='UA', color='black')\n",
    "ax.plot(pd.concat([LM_metrics[181:]['date'], LM_metrics[:181]['date']]).values, pd.concat([LM_metrics[181:]['rmse'], LM_metrics[:181]['rmse']]).values, label='LM')\n",
    "ax.plot(pd.concat([P2M_metrics[181:]['date'], P2M_metrics[:181]['date']]).values, pd.concat([P2M_metrics[181:]['rmse'], P2M_metrics[:181]['rmse']]).values, label='P2M')\n",
    "ax.plot(pd.concat([P3M_metrics[181:]['date'], P3M_metrics[:181]['date']]).values, pd.concat([P3M_metrics[181:]['rmse'], P3M_metrics[:181]['rmse']]).values, label='P3M')\n",
    "ax.plot(pd.concat([RF_metrics[181:]['date'], RF_metrics[:181]['date']]).values, pd.concat([RF_metrics[181:]['rmse'], RF_metrics[:181]['rmse']]).values, label='RF')\n",
    "ax.plot(pd.concat([NN_metrics[181:]['date'], NN_metrics[:181]['date']]).values, pd.concat([NN_metrics[181:]['rmse'], NN_metrics[:181]['rmse']]).values, label='NN')\n",
    "ax.set_xticks(ax.get_xticks()[::30])   # tick at every 30th entry\n",
    "ax.set_xticklabels(ax.get_xticks(), rotation=90)\n",
    "ax.set_xticklabels(list(pd.concat([UASWE_metrics[181:]['date'], UASWE_metrics[:181]['date']]).values)[::30])    # tick labels at every 30th entry\n",
    "ax.set_title('Cumulative Ablation: RMSE')\n",
    "ax.legend()\n",
    "# ax.axhline(200, linestyle='--', color='lightgrey')\n",
    "# plt.savefig(f'{save_pth}cum_eval/climatological_scheme/{mode}/cum_abl_mse_plot.png', dpi=300)\n",
    "plt.show()\n",
    "\n",
    "plt.clf()\n",
    "fig, ax = plt.subplots(figsize=(24, 6))\n",
    "ax.plot(pd.concat([UASWE_metrics[181:]['date'], UASWE_metrics[:181]['date']]).values, pd.concat([UASWE_metrics[181:]['mae'], UASWE_metrics[:181]['mae']]).values, label='UA', color='black')\n",
    "ax.plot(pd.concat([LM_metrics[181:]['date'], LM_metrics[:181]['date']]).values, pd.concat([LM_metrics[181:]['mae'], LM_metrics[:181]['mae']]).values, label='LM')\n",
    "ax.plot(pd.concat([P2M_metrics[181:]['date'], P2M_metrics[:181]['date']]).values, pd.concat([P2M_metrics[181:]['mae'], P2M_metrics[:181]['mae']]).values, label='P2M')\n",
    "ax.plot(pd.concat([P3M_metrics[181:]['date'], P3M_metrics[:181]['date']]).values, pd.concat([P3M_metrics[181:]['mae'], P3M_metrics[:181]['mae']]).values, label='P3M')\n",
    "ax.plot(pd.concat([RF_metrics[181:]['date'], RF_metrics[:181]['date']]).values, pd.concat([RF_metrics[181:]['mae'], RF_metrics[:181]['mae']]).values, label='RF')\n",
    "ax.plot(pd.concat([NN_metrics[181:]['date'], NN_metrics[:181]['date']]).values, pd.concat([NN_metrics[181:]['mae'], NN_metrics[:181]['mae']]).values, label='NN')\n",
    "ax.set_xticks(ax.get_xticks()[::30])   # tick at every 30th entry\n",
    "ax.set_xticklabels(ax.get_xticks(), rotation=90)\n",
    "ax.set_xticklabels(list(pd.concat([UASWE_metrics[181:]['date'], UASWE_metrics[:181]['date']]).values)[::30])    # tick labels at every 30th entry\n",
    "ax.set_title('Cumulative Ablation: MAE')\n",
    "ax.legend()\n",
    "# ax.axhline(200, linestyle='--', color='lightgrey')\n",
    "# plt.savefig(f'{save_pth}cum_eval/climatological_scheme/{mode}/cum_abl_mae_plot.png', dpi=300)\n",
    "plt.show()\n",
    "\n",
    "plt.clf()\n",
    "fig, ax = plt.subplots(figsize=(24, 6))\n",
    "ax.plot(pd.concat([UASWE_metrics[181:]['date'], UASWE_metrics[:181]['date']]).values, pd.concat([UASWE_metrics[181:]['r2'], UASWE_metrics[:181]['r2']]).values, label='UA', color='black')\n",
    "ax.plot(pd.concat([LM_metrics[181:]['date'], LM_metrics[:181]['date']]).values, pd.concat([LM_metrics[181:]['r2'], LM_metrics[:181]['r2']]).values, label='LM')\n",
    "ax.plot(pd.concat([P2M_metrics[181:]['date'], P2M_metrics[:181]['date']]).values, pd.concat([P2M_metrics[181:]['r2'], P2M_metrics[:181]['r2']]).values, label='P2M')\n",
    "ax.plot(pd.concat([P3M_metrics[181:]['date'], P3M_metrics[:181]['date']]).values, pd.concat([P3M_metrics[181:]['r2'], P3M_metrics[:181]['r2']]).values, label='P3M')\n",
    "ax.plot(pd.concat([RF_metrics[181:]['date'], RF_metrics[:181]['date']]).values, pd.concat([RF_metrics[181:]['r2'], RF_metrics[:181]['r2']]).values, label='RF')\n",
    "ax.plot(pd.concat([NN_metrics[181:]['date'], NN_metrics[:181]['date']]).values, pd.concat([NN_metrics[181:]['r2'], NN_metrics[:181]['r2']]).values, label='NN')\n",
    "ax.set_xticks(ax.get_xticks()[::30])   # tick at every 30th entry\n",
    "ax.set_xticklabels(ax.get_xticks(), rotation=90)\n",
    "ax.set_xticklabels(list(pd.concat([UASWE_metrics[181:]['date'], UASWE_metrics[:181]['date']]).values)[::30])    # tick labels at every 30th entry\n",
    "ax.set_title('Cumulative Ablation: R2')\n",
    "ax.legend()\n",
    "# ax.set_ylim(-1, 1)\n",
    "ax.axhline(0, linestyle='--', color='lightgrey')\n",
    "# plt.savefig(f'{save_pth}cum_eval/climatological_scheme/{mode}/cum_abl_r2_plot.png', dpi=300)\n",
    "plt.show()"
   ]
  },
  {
   "cell_type": "markdown",
   "id": "676385f4-77ad-4c0d-bb5f-f28ce7ffd75a",
   "metadata": {},
   "source": [
    "##### Maybe Use: End"
   ]
  },
  {
   "cell_type": "code",
   "execution_count": null,
   "id": "cdc798c9-8c6e-4c9c-adf0-6d65a95199b8",
   "metadata": {},
   "outputs": [],
   "source": []
  },
  {
   "cell_type": "code",
   "execution_count": null,
   "id": "9bc99485-ebc0-4a09-9b62-057c55325136",
   "metadata": {
    "tags": []
   },
   "outputs": [],
   "source": [
    "run_cum_dfs_lst = []"
   ]
  },
  {
   "cell_type": "code",
   "execution_count": null,
   "id": "ce70264b-ce6d-4066-bec8-ae93eef381ba",
   "metadata": {
    "tags": []
   },
   "outputs": [],
   "source": [
    "for k in range(nfolds):\n",
    "    exclude_lst = []\n",
    "    with open(f\"/global/cfs/cdirs/m1517/yum/swe/UofA_improvements/regression/modeling_12122023/k{k}_site_years_exclude.txt\", \"r\") as f:\n",
    "    # with open(f\"/global/cfs/cdirs/m1517/yum/swe/UofA_improvements/regression/modeling_12122023/k{k}_site_years_exclude_SDSUB.txt\", \"r\") as f:\n",
    "        for line in f:\n",
    "            exclude_lst.append(line.strip())\n",
    "            \n",
    "    k_run_cum_dfs_lst = []\n",
    "    # print(k)\n",
    "            \n",
    "    run_fold_cum_dir = f'{run_root_dir}k={k}/cum_swe_ts/{mode}'\n",
    "    for file in os.listdir(run_fold_cum_dir):\n",
    "        filename = os.fsdecode(file)\n",
    "        if filename.endswith(\"_df.csv\") and filename not in exclude_lst: \n",
    "            # print(os.path.join(directory, filename))\n",
    "            # print(filename)\n",
    "            df = pd.read_csv(os.path.join(run_fold_cum_dir, filename), index_col=0)\n",
    "            k_run_cum_dfs_lst.append(df)\n",
    "        # else:\n",
    "        #     print(filename)\n",
    "    run_fold_cum_df = pd.concat(k_run_cum_dfs_lst)\n",
    "    \n",
    "    run_cum_dfs_lst.append(run_fold_cum_df)"
   ]
  },
  {
   "cell_type": "code",
   "execution_count": null,
   "id": "2b13f2d5-e863-4508-b59a-e199052870ac",
   "metadata": {
    "tags": []
   },
   "outputs": [],
   "source": [
    "run_cum_dfs = pd.concat(run_cum_dfs_lst)"
   ]
  },
  {
   "cell_type": "code",
   "execution_count": null,
   "id": "2257e20a-0e4e-40e7-8fb9-6a002b3f47bf",
   "metadata": {
    "tags": []
   },
   "outputs": [],
   "source": [
    "run_cum_dfs = run_cum_dfs[~pd.to_datetime(run_cum_dfs['datetime']).dt.month.isin([7, 8, 9])]"
   ]
  },
  {
   "cell_type": "markdown",
   "id": "2caea772-6ef1-4d4c-96e7-5eed852615ab",
   "metadata": {
    "tags": []
   },
   "source": [
    "#### Begin: Full, no exclude"
   ]
  },
  {
   "cell_type": "code",
   "execution_count": null,
   "id": "9ecf18ec-bb87-4e36-a495-c5a60f44f887",
   "metadata": {
    "tags": []
   },
   "outputs": [],
   "source": [
    "run_cum_dfs_lst = []"
   ]
  },
  {
   "cell_type": "code",
   "execution_count": null,
   "id": "dded4f0e-59bc-42e6-b498-305a4d3d9076",
   "metadata": {
    "tags": []
   },
   "outputs": [],
   "source": [
    "for k in range(nfolds):\n",
    "    run_fold_cum_dir = f'{run_root_dir}k={k}/cum_swe_ts/{mode}/ALL_SITES_WY_DF.csv'\n",
    "    run_fold_cum_df = pd.read_csv(run_fold_cum_dir, index_col=0)\n",
    "    run_cum_dfs_lst.append(run_fold_cum_df)"
   ]
  },
  {
   "cell_type": "code",
   "execution_count": null,
   "id": "d313406c-ad43-458e-94db-15169f3d7a4c",
   "metadata": {
    "tags": []
   },
   "outputs": [],
   "source": [
    "run_cum_dfs = pd.concat(run_cum_dfs_lst)"
   ]
  },
  {
   "cell_type": "code",
   "execution_count": null,
   "id": "252bca29-9536-4fae-a90b-97dea692ecec",
   "metadata": {
    "tags": []
   },
   "outputs": [],
   "source": [
    "run_cum_dfs.keys()"
   ]
  },
  {
   "cell_type": "code",
   "execution_count": null,
   "id": "ed541a07-fd6a-42be-9584-de37a520843a",
   "metadata": {
    "tags": []
   },
   "outputs": [],
   "source": [
    "run_cum_dfs[(run_cum_dfs['temp_t7'].isna())][features][:60]"
   ]
  },
  {
   "cell_type": "code",
   "execution_count": null,
   "id": "919809aa-7e0c-46b9-89c8-59dc93f75f43",
   "metadata": {
    "tags": []
   },
   "outputs": [],
   "source": [
    "run_cum_dfs[['temp_t1', 'temp_t2', 'temp_t3', 'temp_t4', 'temp_t5', 'temp_t6', 'temp_t7']].loc[345165:345170]"
   ]
  },
  {
   "cell_type": "code",
   "execution_count": null,
   "id": "98840b3e-ab87-4653-be71-81e07f86cba6",
   "metadata": {
    "tags": []
   },
   "outputs": [],
   "source": [
    "run_cum_dfs[run_cum_dfs['temp_t7'].isna()][['datetime','sitecode','pred_daily_acc_abl_P3M', 'pred_acc_abl_P3M', 'pred_acc_abl_RF', 'pred_daily_acc_abl_RF', 'pred_swe_P3M','pred_swe_RF']][:60]"
   ]
  },
  {
   "cell_type": "code",
   "execution_count": null,
   "id": "53eaf25a-33cf-4d66-af6f-b0dd6dbff8af",
   "metadata": {
    "tags": []
   },
   "outputs": [],
   "source": [
    "run_cum_dfs.dropna(subset=features, how='any')"
   ]
  },
  {
   "cell_type": "code",
   "execution_count": null,
   "id": "19aa0987-5da3-45a9-9c44-0cb6424268cb",
   "metadata": {
    "tags": []
   },
   "outputs": [],
   "source": [
    "run_cum_dfs[features]"
   ]
  },
  {
   "cell_type": "code",
   "execution_count": null,
   "id": "56af6dd6-dab7-4a3f-a224-699f4b258c2d",
   "metadata": {
    "tags": []
   },
   "outputs": [],
   "source": [
    "run_cum_dfs"
   ]
  },
  {
   "cell_type": "code",
   "execution_count": null,
   "id": "d235d32c-f57f-4265-a833-4edacab37156",
   "metadata": {
    "tags": []
   },
   "outputs": [],
   "source": [
    "run_cum_dfs = run_cum_dfs[~pd.to_datetime(run_cum_dfs['datetime']).dt.month.isin([7, 8, 9])]"
   ]
  },
  {
   "cell_type": "markdown",
   "id": "93b5c07e-ec23-4812-8448-c6a29cda911d",
   "metadata": {},
   "source": [
    "#### End: Full, no exclude"
   ]
  },
  {
   "cell_type": "markdown",
   "id": "f2237724-770c-451a-a0e2-8a15a6ecfb43",
   "metadata": {},
   "source": [
    "### Aggregate"
   ]
  },
  {
   "cell_type": "code",
   "execution_count": null,
   "id": "7219f12c-14e9-4320-93a6-2c8951452c17",
   "metadata": {
    "tags": []
   },
   "outputs": [],
   "source": [
    "xminimum, xmaximum = min(run_cum_dfs['abl_snw']), max(run_cum_dfs['abl_snw'])\n",
    "yminimum = min(np.min(run_cum_dfs['pred_acc_abl_UASWE']), np.min(run_cum_dfs['pred_acc_abl_LM']), np.min(run_cum_dfs['pred_acc_abl_P2M']), np.min(run_cum_dfs['pred_acc_abl_P3M']), np.min(run_cum_dfs['pred_acc_abl_RF']), np.min(run_cum_dfs['pred_acc_abl_NN'])) \n",
    "ymaximum = max(np.max(run_cum_dfs['pred_acc_abl_UASWE']), np.max(run_cum_dfs['pred_acc_abl_LM']), np.max(run_cum_dfs['pred_acc_abl_P2M']), np.max(run_cum_dfs['pred_acc_abl_P3M']), np.max(run_cum_dfs['pred_acc_abl_RF']), np.max(run_cum_dfs['pred_acc_abl_NN'])) \n",
    "minimum, maximum = min(xminimum, yminimum), max(xmaximum, ymaximum)\n",
    "\n",
    "fig, axes = plt.subplots(2, 3, figsize=(18,10))\n",
    "col = np.where(run_cum_dfs['pred_acc_snw_UASWE'] == run_cum_dfs['pred_acc_abl_UASWE'], 'r', 'b')\n",
    "axes[0, 0].scatter(run_cum_dfs['abl_snw'], run_cum_dfs['pred_acc_abl_UASWE'], s=1, alpha=0.05, c=col)  #, 'bo', markersize=1, alpha=0.1) #row=0, col=0\n",
    "axes[0, 1].scatter(run_cum_dfs['abl_snw'], run_cum_dfs['pred_acc_abl_LM'], s=1, alpha=0.05, c=col)  #, 'bo', markersize=1, alpha=0.1) #row=0, col=0\n",
    "axes[0, 2].scatter(run_cum_dfs['abl_snw'], run_cum_dfs['pred_acc_abl_P2M'], s=1, alpha=0.05, c=col)  #, 'bo', markersize=1, alpha=0.1) #row=1, col=0\n",
    "axes[1, 0].scatter(run_cum_dfs['abl_snw'], run_cum_dfs['pred_acc_abl_P3M'], s=1, alpha=0.05, c=col)  #, 'bo', markersize=1, alpha=0.1) #row=0, col=1\n",
    "axes[1, 1].scatter(run_cum_dfs['abl_snw'], run_cum_dfs['pred_acc_abl_RF'], s=1, alpha=0.05, c=col)  #, 'bo', markersize=1, alpha=0.1) #row=1, col=1\n",
    "axes[1, 2].scatter(run_cum_dfs['abl_snw'], run_cum_dfs['pred_acc_abl_NN'], s=1, alpha=0.05, c=col)  #, 'bo', markersize=1, alpha=0.1) #row=1, col=1\n",
    "for i in range(2):\n",
    "    for j in range(3):\n",
    "        # if i != 1 or j != 2:\n",
    "        axes[i,j].axline([0, 0], slope=1, color='grey', alpha=0.75)\n",
    "        axes[i,j].axhline(0, xmin=minimum, xmax=maximum, color='red', alpha=0.5)\n",
    "        axes[i,j].axvline(0, ymin=minimum, ymax=maximum, color='red', alpha=0.5)\n",
    "        axes[i,j].set_xlim(minimum, maximum)\n",
    "        axes[i,j].set_ylim(minimum, maximum)\n",
    "        axes[i,j].set_xlabel('True Cumulative Ablation (mm)')\n",
    "# axes[-1, -1].axis('off')\n",
    "axes[0, 0].set_ylabel('UASWE Predicted Cumulative Ablation (mm)')\n",
    "axes[0, 1].set_ylabel('LM Predicted Cumulative Ablation (mm)')\n",
    "axes[0, 2].set_ylabel('P2M Predicted Cumulative Ablation (mm)')\n",
    "axes[1, 0].set_ylabel('P3M Predicted Cumulative Ablation (mm)')\n",
    "axes[1, 1].set_ylabel('RF Predicted Cumulative Ablation (mm)')\n",
    "axes[1, 2].set_ylabel('NN Predicted Cumulative Ablation (mm)')\n",
    "plt.savefig(f'{save_dir}{mode}/cum_eval/cum_abl_scatter.png', dpi=300)\n",
    "# plt.show()"
   ]
  },
  {
   "cell_type": "code",
   "execution_count": null,
   "id": "14443f96-bbec-4e4e-bcc6-fcc779f29a89",
   "metadata": {
    "tags": []
   },
   "outputs": [],
   "source": [
    "xminimum, xmaximum = min(run_cum_dfs['abl_snw']), max(run_cum_dfs['abl_snw'])\n",
    "yminimum = min(np.min(run_cum_dfs['pred_acc_abl_UASWE']), np.min(run_cum_dfs['pred_acc_abl_LM']), np.min(run_cum_dfs['pred_acc_abl_P2M']), np.min(run_cum_dfs['pred_acc_abl_P3M']), np.min(run_cum_dfs['pred_acc_abl_RF']), np.min(run_cum_dfs['pred_acc_abl_NN'])) \n",
    "ymaximum = max(np.max(run_cum_dfs['pred_acc_abl_UASWE']), np.max(run_cum_dfs['pred_acc_abl_LM']), np.max(run_cum_dfs['pred_acc_abl_P2M']), np.max(run_cum_dfs['pred_acc_abl_P3M']), np.max(run_cum_dfs['pred_acc_abl_RF']), np.max(run_cum_dfs['pred_acc_abl_NN'])) \n",
    "minimum, maximum = min(xminimum, yminimum), max(xmaximum, ymaximum)\n",
    "\n",
    "fig, axes = plt.subplots(2, 3, figsize=(18,10))\n",
    "axes[0, 0].hexbin(run_cum_dfs['abl_snw'], run_cum_dfs['pred_acc_abl_UASWE'], gridsize=200, cmap='Blues', bins='log') #row=0, col=0\n",
    "axes[0, 1].hexbin(run_cum_dfs['abl_snw'], run_cum_dfs['pred_acc_abl_LM'], gridsize=200, cmap='Blues', bins='log') #row=0, col=0\n",
    "axes[0, 2].hexbin(run_cum_dfs['abl_snw'], run_cum_dfs['pred_acc_abl_P2M'], gridsize=200, cmap='Blues', bins='log') #row=1, col=0\n",
    "axes[1, 0].hexbin(run_cum_dfs['abl_snw'], run_cum_dfs['pred_acc_abl_P3M'], gridsize=200, cmap='Blues', bins='log') #row=0, col=1\n",
    "axes[1, 1].hexbin(run_cum_dfs['abl_snw'], run_cum_dfs['pred_acc_abl_RF'], gridsize=200, cmap='Blues', bins='log') #row=1, col=1\n",
    "axes[1, 2].hexbin(run_cum_dfs['abl_snw'], run_cum_dfs['pred_acc_abl_NN'], gridsize=200, cmap='Blues', bins='log') #row=1, col=1\n",
    "for i in range(2):\n",
    "    for j in range(3):\n",
    "        # if i != 1 or j != 2:\n",
    "        axes[i,j].axline([0, 0], slope=1, color='grey', alpha=0.75)\n",
    "        axes[i,j].axhline(0, xmin=minimum, xmax=maximum, color='red', alpha=0.5)\n",
    "        axes[i,j].axvline(0, ymin=minimum, ymax=maximum, color='red', alpha=0.5)\n",
    "        axes[i,j].set_xlim(minimum, maximum)\n",
    "        axes[i,j].set_ylim(minimum, maximum)\n",
    "        axes[i,j].set_xlabel('True Cumulative Ablation (mm)')\n",
    "# axes[-1, -1].axis('off')\n",
    "axes[0, 0].set_ylabel('UASWE Predicted Cumulative Ablation (mm)')\n",
    "axes[0, 1].set_ylabel('LM Predicted Cumulative Ablation (mm)')\n",
    "axes[0, 2].set_ylabel('P2M Predicted Cumulative Ablation (mm)')\n",
    "axes[1, 0].set_ylabel('P3M Predicted Cumulative Ablation (mm)')\n",
    "axes[1, 1].set_ylabel('RF Predicted Cumulative Ablation (mm)')\n",
    "axes[1, 2].set_ylabel('NN Predicted Cumulative Ablation (mm)')\n",
    "plt.savefig(f'{save_dir}{mode}/cum_eval/cum_abl_hexplot.png', dpi=300)\n",
    "# plt.show()"
   ]
  },
  {
   "cell_type": "code",
   "execution_count": null,
   "id": "1afec8ff-c998-4498-8b45-59b737d34628",
   "metadata": {
    "tags": []
   },
   "outputs": [],
   "source": [
    "cum_UASWE_r2, cum_UASWE_mse = calculate_r2_mse(run_cum_dfs[['abl_snw', 'pred_acc_abl_UASWE']].dropna()['abl_snw'], \n",
    "                                                   run_cum_dfs[['abl_snw', 'pred_acc_abl_UASWE']].dropna()['pred_acc_abl_UASWE'])\n",
    "cum_LM_r2, cum_LM_mse = calculate_r2_mse(run_cum_dfs[['abl_snw', 'pred_acc_abl_LM']].dropna()['abl_snw'], \n",
    "                                             run_cum_dfs[['abl_snw', 'pred_acc_abl_LM']].dropna()['pred_acc_abl_LM'])\n",
    "cum_P2M_r2, cum_P2M_mse = calculate_r2_mse(run_cum_dfs[['abl_snw', 'pred_acc_abl_P2M']].dropna()['abl_snw'], \n",
    "                                               run_cum_dfs[['abl_snw', 'pred_acc_abl_P2M']].dropna()['pred_acc_abl_P2M'])\n",
    "cum_P3M_r2, cum_P3M_mse = calculate_r2_mse(run_cum_dfs[['abl_snw', 'pred_acc_abl_P3M']].dropna()['abl_snw'], \n",
    "                                               run_cum_dfs[['abl_snw', 'pred_acc_abl_P3M']].dropna()['pred_acc_abl_P3M'])\n",
    "cum_RF_r2, cum_RF_mse = calculate_r2_mse(run_cum_dfs[['abl_snw', 'pred_acc_abl_RF']].dropna()['abl_snw'], \n",
    "                                             run_cum_dfs[['abl_snw', 'pred_acc_abl_RF']].dropna()['pred_acc_abl_RF'])\n",
    "cum_NN_r2, cum_NN_mse = calculate_r2_mse(run_cum_dfs[['abl_snw', 'pred_acc_abl_NN']].dropna()['abl_snw'], \n",
    "                                             run_cum_dfs[['abl_snw', 'pred_acc_abl_NN']].dropna()['pred_acc_abl_NN'])"
   ]
  },
  {
   "cell_type": "code",
   "execution_count": null,
   "id": "a2e25a76-29cc-4dc0-bde6-10b3263de712",
   "metadata": {
    "tags": []
   },
   "outputs": [],
   "source": [
    "print(cum_UASWE_r2, cum_LM_r2, cum_P2M_r2, cum_P3M_r2, cum_RF_r2, cum_NN_r2)\n",
    "print(cum_UASWE_mse, cum_LM_mse, cum_P2M_mse, cum_P3M_mse, cum_RF_mse, cum_NN_mse)"
   ]
  },
  {
   "cell_type": "code",
   "execution_count": null,
   "id": "28c02642-ab1c-4d86-902e-227e2c962942",
   "metadata": {
    "tags": []
   },
   "outputs": [],
   "source": [
    "len(run_cum_dfs)"
   ]
  },
  {
   "cell_type": "code",
   "execution_count": null,
   "id": "ff308677-a68f-4a58-8e6f-4810cc889892",
   "metadata": {
    "tags": []
   },
   "outputs": [],
   "source": [
    "run_cum_dfs = run_cum_dfs.dropna(subset=['abl_snw', 'pred_acc_abl_UASWE', \n",
    "                                   'pred_acc_abl_LM', 'pred_acc_abl_P2M', 'pred_acc_abl_P3M', \n",
    "                                   'pred_acc_abl_RF','pred_acc_abl_NN'\n",
    "                                  ], how='any', inplace=False)"
   ]
  },
  {
   "cell_type": "code",
   "execution_count": null,
   "id": "cdde500d-67b9-456c-bc96-060e0f607d22",
   "metadata": {
    "tags": []
   },
   "outputs": [],
   "source": [
    "np.unique(run_cum_dfs[run_cum_dfs['pred_acc_abl_P2M'] < -1000][['sitecode', 'datetime', 'pr', 'temp', 'pred_acc_abl_P2M', 'pred_swe_P2M']]['sitecode'], return_counts=True)"
   ]
  },
  {
   "cell_type": "code",
   "execution_count": null,
   "id": "c23d6fad-1802-4859-a648-fe47b0e36701",
   "metadata": {
    "tags": []
   },
   "outputs": [],
   "source": [
    "np.unique(run_cum_dfs[run_cum_dfs['pred_acc_abl_P2M'] < -10000][['sitecode', 'datetime', 'pr', 'temp', 'pred_acc_abl_P2M', 'pred_swe_P2M']]['sitecode'], return_counts=True)"
   ]
  },
  {
   "cell_type": "code",
   "execution_count": null,
   "id": "39ea5b17-2cd0-4eea-924e-a52cd97ceda0",
   "metadata": {
    "tags": []
   },
   "outputs": [],
   "source": [
    "run_cum_dfs[np.round(run_cum_dfs['pred_swe_P2M'],1) > 2000][['sitecode', 'datetime', 'swe', 'pr', 'temp', 'pred_acc_abl_P2M', 'pred_swe_P2M']].sort_values('pred_swe_P2M')"
   ]
  },
  {
   "cell_type": "code",
   "execution_count": null,
   "id": "2ccbc513-9563-4d4a-ab1f-f12b8fa8109c",
   "metadata": {
    "tags": []
   },
   "outputs": [],
   "source": [
    "# Phys dAbl with SWE model\n",
    "run_cum_dfs['pred_acc_abl_P2M'] = run_cum_dfs['pred_acc_abl_P2M'].clip(lower=-7.284402e+02)\n",
    "run_cum_dfs['pred_swe_P2M'] = run_cum_dfs['pred_swe_P2M'].clip(upper=2.003520e+03)"
   ]
  },
  {
   "cell_type": "code",
   "execution_count": null,
   "id": "47407f12-2542-4c46-8eb0-cad320e5f2c4",
   "metadata": {
    "tags": []
   },
   "outputs": [],
   "source": [
    "# Full dAbl with SWE model\n",
    "run_cum_dfs['pred_acc_abl_P2M'] = run_cum_dfs['pred_acc_abl_P2M'].clip(lower=-3.460402e+02)\n",
    "run_cum_dfs['pred_swe_P2M'] = run_cum_dfs['pred_swe_P2M'].clip(upper=2.007200e+03)"
   ]
  },
  {
   "cell_type": "code",
   "execution_count": null,
   "id": "117dcfe3-fea6-46cc-9eea-35b645fb582c",
   "metadata": {
    "tags": []
   },
   "outputs": [],
   "source": [
    "# Full dAbl with SD model\n",
    "run_cum_dfs['pred_acc_abl_P2M'] = run_cum_dfs['pred_acc_abl_P2M'].clip(lower=-8.173709e+02)\n",
    "run_cum_dfs['pred_swe_P2M'] = run_cum_dfs['pred_swe_P2M'].clip(upper=2.003551e+03)"
   ]
  },
  {
   "cell_type": "code",
   "execution_count": null,
   "id": "9f740e99-e212-4b34-a5b0-7bd438f34d8d",
   "metadata": {
    "tags": []
   },
   "outputs": [],
   "source": [
    "cum_UASWE_r2, cum_UASWE_mae, cum_UASWE_mse = calculate_r2_mse(run_cum_dfs['abl_snw'], run_cum_dfs['pred_acc_abl_UASWE'])\n",
    "cum_LM_r2, cum_LM_mae, cum_LM_mse = calculate_r2_mse(run_cum_dfs['abl_snw'], run_cum_dfs['pred_acc_abl_LM'])\n",
    "cum_P2M_r2, cum_P2M_mae, cum_P2M_mse = calculate_r2_mse(run_cum_dfs['abl_snw'], run_cum_dfs['pred_acc_abl_P2M'])\n",
    "cum_P3M_r2, cum_P3M_mae, cum_P3M_mse = calculate_r2_mse(run_cum_dfs['abl_snw'], run_cum_dfs['pred_acc_abl_P3M'])\n",
    "cum_RF_r2, cum_RF_mae, cum_RF_mse = calculate_r2_mse(run_cum_dfs['abl_snw'], run_cum_dfs['pred_acc_abl_RF'])\n",
    "cum_NN_r2, cum_NN_mae, cum_NN_mse = calculate_r2_mse(run_cum_dfs['abl_snw'], run_cum_dfs['pred_acc_abl_NN'])"
   ]
  },
  {
   "cell_type": "code",
   "execution_count": null,
   "id": "09c50a15-4b1e-4195-9684-0b0a9e153c0f",
   "metadata": {
    "tags": []
   },
   "outputs": [],
   "source": [
    "print(np.min(run_cum_dfs['pred_acc_abl_UASWE']), np.max(run_cum_dfs['pred_acc_abl_UASWE']))\n",
    "print(np.min(run_cum_dfs['pred_acc_abl_LM']), np.max(run_cum_dfs['pred_acc_abl_LM']))\n",
    "print(np.min(run_cum_dfs['pred_acc_abl_P2M']), np.max(run_cum_dfs['pred_acc_abl_P2M']))\n",
    "print(np.min(run_cum_dfs['pred_acc_abl_P3M']), np.max(run_cum_dfs['pred_acc_abl_P3M']))\n",
    "print(np.min(run_cum_dfs['pred_acc_abl_RF']), np.max(run_cum_dfs['pred_acc_abl_RF']))\n",
    "print(np.min(run_cum_dfs['pred_acc_abl_NN']), np.max(run_cum_dfs['pred_acc_abl_NN']))"
   ]
  },
  {
   "cell_type": "code",
   "execution_count": null,
   "id": "07bb65a3-4544-405b-b714-2695811de606",
   "metadata": {
    "tags": []
   },
   "outputs": [],
   "source": [
    "print(cum_UASWE_r2, cum_LM_r2, cum_P2M_r2, cum_P3M_r2, cum_RF_r2, cum_NN_r2)\n",
    "print(cum_UASWE_mse, cum_LM_mse, cum_P2M_mse, cum_P3M_mse, cum_RF_mse, cum_NN_mse)"
   ]
  },
  {
   "cell_type": "code",
   "execution_count": null,
   "id": "8e393a5e-0098-4a00-bd89-00ca84f2efbb",
   "metadata": {},
   "outputs": [],
   "source": []
  },
  {
   "cell_type": "code",
   "execution_count": null,
   "id": "993b848b-ad4c-4bfc-9a12-5057cb51b0d6",
   "metadata": {
    "tags": []
   },
   "outputs": [],
   "source": [
    "print(cum_UASWE_r2, cum_LM_r2, cum_P2M_r2, cum_P3M_r2, cum_RF_r2, cum_NN_r2)\n",
    "print(cum_UASWE_mse, cum_LM_mse, cum_P2M_mse, cum_P3M_mse, cum_RF_mse, cum_NN_mse)"
   ]
  },
  {
   "cell_type": "code",
   "execution_count": null,
   "id": "a0fe0e8c-3d3a-429c-b9a8-8c88d1b5f776",
   "metadata": {
    "tags": []
   },
   "outputs": [],
   "source": [
    "print(cum_UASWE_r2, cum_LM_r2, cum_P2M_r2, cum_P3M_r2, cum_RF_r2, cum_NN_r2)\n",
    "print(cum_UASWE_mse, cum_LM_mse, cum_P2M_mse, cum_P3M_mse, cum_RF_mse, cum_NN_mse)"
   ]
  },
  {
   "cell_type": "code",
   "execution_count": null,
   "id": "d6eea7cb-43bb-4baf-b5ef-68ab0a14f6f1",
   "metadata": {
    "tags": []
   },
   "outputs": [],
   "source": [
    "print(cum_UASWE_r2, cum_LM_r2, cum_P2M_r2, cum_P3M_r2, cum_RF_r2, cum_NN_r2)\n",
    "print(cum_UASWE_mse, cum_LM_mse, cum_P2M_mse, cum_P3M_mse, cum_RF_mse, cum_NN_mse)"
   ]
  },
  {
   "cell_type": "code",
   "execution_count": null,
   "id": "fdebfc1f-74c5-4d49-93a6-d12e9eafef18",
   "metadata": {
    "tags": []
   },
   "outputs": [],
   "source": [
    "print(cum_UASWE_r2, cum_LM_r2, cum_P2M_r2, cum_P3M_r2, cum_RF_r2, cum_NN_r2)\n",
    "print(cum_UASWE_mse, cum_LM_mse, cum_P2M_mse, cum_P3M_mse, cum_RF_mse, cum_NN_mse)"
   ]
  },
  {
   "cell_type": "code",
   "execution_count": null,
   "id": "ef715814-288d-46f3-8d3d-debe0e28a275",
   "metadata": {
    "tags": []
   },
   "outputs": [],
   "source": [
    "print(cum_UASWE_r2, cum_LM_r2, cum_P2M_r2, cum_P3M_r2, cum_RF_r2, cum_NN_r2)\n",
    "print(cum_UASWE_mse, cum_LM_mse, cum_P2M_mse, cum_P3M_mse, cum_RF_mse, cum_NN_mse)"
   ]
  },
  {
   "cell_type": "code",
   "execution_count": null,
   "id": "981299ae-f6cf-423f-8a9a-9f3cce4c9129",
   "metadata": {
    "tags": []
   },
   "outputs": [],
   "source": [
    "# also uaswelike with swe (attempt 2, to try to diagnose nn low r2/high mse)\n",
    "print(cum_UASWE_r2, cum_LM_r2, cum_P2M_r2, cum_P3M_r2, cum_RF_r2, cum_NN_r2)\n",
    "print(cum_UASWE_mse, cum_LM_mse, cum_P2M_mse, cum_P3M_mse, cum_RF_mse, cum_NN_mse)"
   ]
  },
  {
   "cell_type": "code",
   "execution_count": null,
   "id": "ba34b618-04b5-474c-a249-4bf8ddbb94a6",
   "metadata": {
    "tags": []
   },
   "outputs": [],
   "source": [
    "len(run_cum_dfs)"
   ]
  },
  {
   "cell_type": "code",
   "execution_count": null,
   "id": "ef49b0c9-b065-4f6c-b69a-402cf783a26c",
   "metadata": {
    "tags": []
   },
   "outputs": [],
   "source": [
    "cum_metrics = {'UA SWE Reg': [cum_UASWE_mse, cum_UASWE_mae, cum_UASWE_r2],\n",
    "        'Lin Reg': [cum_LM_mse, cum_LM_mae, cum_LM_r2],\n",
    "        'Quad Reg': [cum_P2M_mse, cum_P2M_mae, cum_P2M_r2],\n",
    "        # # 'Quad Reg w/ Int': [p2im_mse, p2im_mae, p2im_rsq],\n",
    "        'Cub Reg': [cum_P3M_mse, cum_P3M_mae, cum_P3M_r2],\n",
    "        'RF': [cum_RF_mse, cum_RF_mae, cum_RF_r2],\n",
    "        'NN': [cum_NN_mse, cum_NN_mae, cum_NN_r2]\n",
    "        # # 'GLM': [glm_mse, glm_mae, glm_rsq]\n",
    "       }"
   ]
  },
  {
   "cell_type": "code",
   "execution_count": null,
   "id": "6906c499-d072-4a11-9693-cda979b1ad9a",
   "metadata": {
    "tags": []
   },
   "outputs": [],
   "source": [
    "# Creates pandas DataFrame.\n",
    "cum_metrics_df = pd.DataFrame(cum_metrics, index=['MSE', 'MAE', 'R2'])"
   ]
  },
  {
   "cell_type": "code",
   "execution_count": null,
   "id": "125132c7-97b1-43bb-a3e8-85ccfe24a553",
   "metadata": {
    "tags": []
   },
   "outputs": [],
   "source": [
    "cum_metrics_df"
   ]
  },
  {
   "cell_type": "code",
   "execution_count": null,
   "id": "74900911-391f-4eec-89c4-da18439b8e20",
   "metadata": {
    "tags": []
   },
   "outputs": [],
   "source": [
    "cum_metrics_df.to_csv(f'{save_dir}{mode}/cum_eval/cum_abl_metrics.csv')"
   ]
  },
  {
   "cell_type": "markdown",
   "id": "afaaf1fb-9886-4045-8409-7a4e10a1e7c9",
   "metadata": {
    "jp-MarkdownHeadingCollapsed": true,
    "tags": []
   },
   "source": [
    "##### To delete: Begin"
   ]
  },
  {
   "cell_type": "code",
   "execution_count": null,
   "id": "c6466cb3-1a5b-41d1-b509-80259b1bb7d8",
   "metadata": {
    "tags": []
   },
   "outputs": [],
   "source": [
    "int_df = pd.merge(run_cum_dfs, \n",
    "                  run_cum_dfs.dropna(subset=['abl_snw', 'pred_acc_abl_UASWE', \n",
    "                                   'pred_acc_abl_LM', 'pred_acc_abl_P2M', 'pred_acc_abl_P3M', \n",
    "                                   'pred_acc_abl_RF','pred_acc_abl_NN'\n",
    "                                  ], how='any', inplace=False), how='left', indicator=True) "
   ]
  },
  {
   "cell_type": "code",
   "execution_count": null,
   "id": "ab07dcb3-7891-453e-b915-109370ffc61e",
   "metadata": {
    "tags": []
   },
   "outputs": [],
   "source": [
    "int_df[int_df['_merge']=='left_only'][['sitecode','swe','datetime','abl_snw', 'pred_acc_abl_UASWE', \n",
    "                                   'pred_acc_abl_LM', 'pred_acc_abl_P2M', 'pred_acc_abl_P3M', \n",
    "                                   'pred_acc_abl_RF','pred_acc_abl_NN'\n",
    "                                  ]]"
   ]
  },
  {
   "cell_type": "code",
   "execution_count": null,
   "id": "67d19d6b-c109-454f-9bbd-8d5fea28e578",
   "metadata": {
    "tags": []
   },
   "outputs": [],
   "source": [
    "calculate_r2_mse(int_df[int_df['_merge']=='left_only']['abl_snw'], int_df[int_df['_merge']=='left_only']['pred_acc_abl_UASWE'])"
   ]
  },
  {
   "cell_type": "markdown",
   "id": "65ec0a10-83b4-4356-91d5-a43872027e43",
   "metadata": {},
   "source": [
    "##### To delete: End"
   ]
  },
  {
   "cell_type": "markdown",
   "id": "ba64f96d-c8bb-452f-bd86-5a1918bed4de",
   "metadata": {},
   "source": [
    "### Climatological"
   ]
  },
  {
   "cell_type": "code",
   "execution_count": null,
   "id": "4dfee722-cfa8-4c8a-96d5-131551468dd9",
   "metadata": {
    "tags": []
   },
   "outputs": [],
   "source": [
    "UASWE_metrics = run_cum_dfs[['datetime', 'abl_snw', 'pred_acc_abl_UASWE']].rename(columns={'abl_snw':'Actual', 'pred_acc_abl_UASWE':'Predicted'}).groupby([pd.to_datetime(run_cum_dfs['datetime']).dt.month, pd.to_datetime(run_cum_dfs['datetime']).dt.day]).apply(metrics)\n",
    "UASWE_metrics.index.names=['Month','Day']\n",
    "# UASWE_metrics.index.get_level_values('Month')\n",
    "# UASWE_metrics = UASWE_metrics.drop([7,8,9], level='Month')\n",
    "\n",
    "LM_metrics = run_cum_dfs[['datetime', 'abl_snw', 'pred_acc_abl_LM']].rename(columns={'abl_snw':'Actual', 'pred_acc_abl_LM':'Predicted'}).groupby([pd.to_datetime(run_cum_dfs['datetime']).dt.month, pd.to_datetime(run_cum_dfs['datetime']).dt.day]).apply(metrics)\n",
    "LM_metrics.index.names=['Month','Day']\n",
    "# LM_metrics.index.get_level_values('Month')\n",
    "# LM_metrics = LM_metrics.drop([7,8,9], level='Month')\n",
    "\n",
    "P2M_metrics = run_cum_dfs[['datetime', 'abl_snw', 'pred_acc_abl_P2M']].rename(columns={'abl_snw':'Actual', 'pred_acc_abl_P2M':'Predicted'}).groupby([pd.to_datetime(run_cum_dfs['datetime']).dt.month, pd.to_datetime(run_cum_dfs['datetime']).dt.day]).apply(metrics)\n",
    "P2M_metrics.index.names=['Month','Day']\n",
    "# P2M_metrics.index.get_level_values('Month')\n",
    "# P2M_metrics = P2M_metrics.drop([7,8,9], level='Month')\n",
    "\n",
    "P3M_metrics = run_cum_dfs[['datetime', 'abl_snw', 'pred_acc_abl_P3M']].rename(columns={'abl_snw':'Actual', 'pred_acc_abl_P3M':'Predicted'}).groupby([pd.to_datetime(run_cum_dfs['datetime']).dt.month, pd.to_datetime(run_cum_dfs['datetime']).dt.day]).apply(metrics)\n",
    "P3M_metrics.index.names=['Month','Day']\n",
    "# P3M_metrics.index.get_level_values('Month')\n",
    "# P3M_metrics = P3M_metrics.drop([7,8,9], level='Month')\n",
    "\n",
    "RF_metrics = run_cum_dfs[['datetime', 'abl_snw', 'pred_acc_abl_RF']].rename(columns={'abl_snw':'Actual', 'pred_acc_abl_RF':'Predicted'}).groupby([pd.to_datetime(run_cum_dfs['datetime']).dt.month, pd.to_datetime(run_cum_dfs['datetime']).dt.day]).apply(metrics)\n",
    "RF_metrics.index.names=['Month','Day']\n",
    "# RF_metrics.index.get_level_values('Month')\n",
    "# RF_metrics = RF_metrics.drop([7,8,9], level='Month')\n",
    "\n",
    "NN_metrics = run_cum_dfs[['datetime', 'abl_snw', 'pred_acc_abl_NN']].rename(columns={'abl_snw':'Actual', 'pred_acc_abl_NN':'Predicted'}).groupby([pd.to_datetime(run_cum_dfs['datetime']).dt.month, pd.to_datetime(run_cum_dfs['datetime']).dt.day]).apply(metrics)\n",
    "NN_metrics.index.names=['Month','Day']\n",
    "# NN_metrics.index.get_level_values('Month')\n",
    "# NN_metrics = NN_metrics.drop([7,8,9], level='Month')"
   ]
  },
  {
   "cell_type": "code",
   "execution_count": null,
   "id": "6cb32ce0-3930-4003-a5ce-f8a8f7cad864",
   "metadata": {
    "tags": []
   },
   "outputs": [],
   "source": [
    "UASWE_metrics['date'] = UASWE_metrics.index.get_level_values('Month').astype(str) + '-' + UASWE_metrics.index.get_level_values('Day').astype(str)\n",
    "LM_metrics['date'] = LM_metrics.index.get_level_values('Month').astype(str) + '-' + LM_metrics.index.get_level_values('Day').astype(str)\n",
    "P2M_metrics['date'] = P2M_metrics.index.get_level_values('Month').astype(str) + '-' + P2M_metrics.index.get_level_values('Day').astype(str)\n",
    "P3M_metrics['date'] = P3M_metrics.index.get_level_values('Month').astype(str) + '-' + P3M_metrics.index.get_level_values('Day').astype(str)\n",
    "RF_metrics['date'] = RF_metrics.index.get_level_values('Month').astype(str) + '-' + RF_metrics.index.get_level_values('Day').astype(str)\n",
    "NN_metrics['date'] = NN_metrics.index.get_level_values('Month').astype(str) + '-' + NN_metrics.index.get_level_values('Day').astype(str)"
   ]
  },
  {
   "cell_type": "code",
   "execution_count": null,
   "id": "63ffd81d-a7a5-4911-852e-6b1b2386be47",
   "metadata": {
    "tags": []
   },
   "outputs": [],
   "source": [
    "plt.clf()\n",
    "fig, ax = plt.subplots(figsize=(24, 6))\n",
    "ax.plot(pd.concat([UASWE_metrics[181:]['date'], UASWE_metrics[:181]['date']]).values, pd.concat([UASWE_metrics[181:]['mse'], UASWE_metrics[:181]['mse']]).values, label='UA', color='black')\n",
    "ax.plot(pd.concat([LM_metrics[181:]['date'], LM_metrics[:181]['date']]).values, pd.concat([LM_metrics[181:]['mse'], LM_metrics[:181]['mse']]).values, label='LM')\n",
    "ax.plot(pd.concat([P2M_metrics[181:]['date'], P2M_metrics[:181]['date']]).values, pd.concat([P2M_metrics[181:]['mse'], P2M_metrics[:181]['mse']]).values, label='P2M')\n",
    "ax.plot(pd.concat([P3M_metrics[181:]['date'], P3M_metrics[:181]['date']]).values, pd.concat([P3M_metrics[181:]['mse'], P3M_metrics[:181]['mse']]).values, label='P3M')\n",
    "ax.plot(pd.concat([RF_metrics[181:]['date'], RF_metrics[:181]['date']]).values, pd.concat([RF_metrics[181:]['mse'], RF_metrics[:181]['mse']]).values, label='RF')\n",
    "ax.plot(pd.concat([NN_metrics[181:]['date'], NN_metrics[:181]['date']]).values, pd.concat([NN_metrics[181:]['mse'], NN_metrics[:181]['mse']]).values, label='NN')\n",
    "ax.set_xticks(ax.get_xticks()[::30])   # tick at every 30th entry\n",
    "ax.set_xticklabels(ax.get_xticks(), rotation=90)\n",
    "ax.set_xticklabels(list(pd.concat([UASWE_metrics[181:]['date'], UASWE_metrics[:181]['date']]).values)[::30])    # tick labels at every 30th entry\n",
    "ax.set_title('Cumulative Ablation: MSE')\n",
    "ax.legend()\n",
    "# ax.axhline(200, linestyle='--', color='lightgrey')\n",
    "plt.savefig(f'{save_dir}{mode}/cum_eval/cum_abl_mse_climat.png', dpi=300)\n",
    "plt.show()\n",
    "\n",
    "plt.clf()\n",
    "fig, ax = plt.subplots(figsize=(24, 6))\n",
    "ax.plot(pd.concat([UASWE_metrics[181:]['date'], UASWE_metrics[:181]['date']]).values, pd.concat([UASWE_metrics[181:]['rmse'], UASWE_metrics[:181]['rmse']]).values, label='UA', color='black')\n",
    "ax.plot(pd.concat([LM_metrics[181:]['date'], LM_metrics[:181]['date']]).values, pd.concat([LM_metrics[181:]['rmse'], LM_metrics[:181]['rmse']]).values, label='LM')\n",
    "ax.plot(pd.concat([P2M_metrics[181:]['date'], P2M_metrics[:181]['date']]).values, pd.concat([P2M_metrics[181:]['rmse'], P2M_metrics[:181]['rmse']]).values, label='P2M')\n",
    "ax.plot(pd.concat([P3M_metrics[181:]['date'], P3M_metrics[:181]['date']]).values, pd.concat([P3M_metrics[181:]['rmse'], P3M_metrics[:181]['rmse']]).values, label='P3M')\n",
    "ax.plot(pd.concat([RF_metrics[181:]['date'], RF_metrics[:181]['date']]).values, pd.concat([RF_metrics[181:]['rmse'], RF_metrics[:181]['rmse']]).values, label='RF')\n",
    "ax.plot(pd.concat([NN_metrics[181:]['date'], NN_metrics[:181]['date']]).values, pd.concat([NN_metrics[181:]['rmse'], NN_metrics[:181]['rmse']]).values, label='NN')\n",
    "ax.set_xticks(ax.get_xticks()[::30])   # tick at every 30th entry\n",
    "ax.set_xticklabels(ax.get_xticks(), rotation=90)\n",
    "ax.set_xticklabels(list(pd.concat([UASWE_metrics[181:]['date'], UASWE_metrics[:181]['date']]).values)[::30])    # tick labels at every 30th entry\n",
    "ax.set_title('Cumulative Ablation: RMSE')\n",
    "ax.legend()\n",
    "# ax.axhline(200, linestyle='--', color='lightgrey')\n",
    "plt.savefig(f'{save_dir}{mode}/cum_eval/cum_abl_rmse_climat.png', dpi=300)\n",
    "plt.show()\n",
    "\n",
    "plt.clf()\n",
    "fig, ax = plt.subplots(figsize=(24, 6))\n",
    "ax.plot(pd.concat([UASWE_metrics[181:]['date'], UASWE_metrics[:181]['date']]).values, pd.concat([UASWE_metrics[181:]['mae'], UASWE_metrics[:181]['mae']]).values, label='UA', color='black')\n",
    "ax.plot(pd.concat([LM_metrics[181:]['date'], LM_metrics[:181]['date']]).values, pd.concat([LM_metrics[181:]['mae'], LM_metrics[:181]['mae']]).values, label='LM')\n",
    "ax.plot(pd.concat([P2M_metrics[181:]['date'], P2M_metrics[:181]['date']]).values, pd.concat([P2M_metrics[181:]['mae'], P2M_metrics[:181]['mae']]).values, label='P2M')\n",
    "ax.plot(pd.concat([P3M_metrics[181:]['date'], P3M_metrics[:181]['date']]).values, pd.concat([P3M_metrics[181:]['mae'], P3M_metrics[:181]['mae']]).values, label='P3M')\n",
    "ax.plot(pd.concat([RF_metrics[181:]['date'], RF_metrics[:181]['date']]).values, pd.concat([RF_metrics[181:]['mae'], RF_metrics[:181]['mae']]).values, label='RF')\n",
    "ax.plot(pd.concat([NN_metrics[181:]['date'], NN_metrics[:181]['date']]).values, pd.concat([NN_metrics[181:]['mae'], NN_metrics[:181]['mae']]).values, label='NN')\n",
    "ax.set_xticks(ax.get_xticks()[::30])   # tick at every 30th entry\n",
    "ax.set_xticklabels(ax.get_xticks(), rotation=90)\n",
    "ax.set_xticklabels(list(pd.concat([UASWE_metrics[181:]['date'], UASWE_metrics[:181]['date']]).values)[::30])    # tick labels at every 30th entry\n",
    "ax.set_title('Cumulative Ablation: MAE')\n",
    "ax.legend()\n",
    "# ax.axhline(200, linestyle='--', color='lightgrey')\n",
    "plt.savefig(f'{save_dir}{mode}/cum_eval/cum_abl_mae_climat.png', dpi=300)\n",
    "plt.show()\n",
    "\n",
    "plt.clf()\n",
    "fig, ax = plt.subplots(figsize=(24, 6))\n",
    "ax.plot(pd.concat([UASWE_metrics[181:]['date'], UASWE_metrics[:181]['date']]).values, pd.concat([UASWE_metrics[181:]['r2'], UASWE_metrics[:181]['r2']]).values, label='UA', color='black')\n",
    "ax.plot(pd.concat([LM_metrics[181:]['date'], LM_metrics[:181]['date']]).values, pd.concat([LM_metrics[181:]['r2'], LM_metrics[:181]['r2']]).values, label='LM')\n",
    "ax.plot(pd.concat([P2M_metrics[181:]['date'], P2M_metrics[:181]['date']]).values, pd.concat([P2M_metrics[181:]['r2'], P2M_metrics[:181]['r2']]).values, label='P2M')\n",
    "ax.plot(pd.concat([P3M_metrics[181:]['date'], P3M_metrics[:181]['date']]).values, pd.concat([P3M_metrics[181:]['r2'], P3M_metrics[:181]['r2']]).values, label='P3M')\n",
    "ax.plot(pd.concat([RF_metrics[181:]['date'], RF_metrics[:181]['date']]).values, pd.concat([RF_metrics[181:]['r2'], RF_metrics[:181]['r2']]).values, label='RF')\n",
    "ax.plot(pd.concat([NN_metrics[181:]['date'], NN_metrics[:181]['date']]).values, pd.concat([NN_metrics[181:]['r2'], NN_metrics[:181]['r2']]).values, label='NN')\n",
    "ax.set_xticks(ax.get_xticks()[::30])   # tick at every 30th entry\n",
    "ax.set_xticklabels(ax.get_xticks(), rotation=90)\n",
    "ax.set_xticklabels(list(pd.concat([UASWE_metrics[181:]['date'], UASWE_metrics[:181]['date']]).values)[::30])    # tick labels at every 30th entry\n",
    "ax.set_title('Cumulative Ablation: R2')\n",
    "ax.legend()\n",
    "# ax.set_ylim(-1, 1)\n",
    "ax.axhline(0, linestyle='--', color='lightgrey')\n",
    "plt.savefig(f'{save_dir}{mode}/cum_eval/cum_abl_r2_climat.png', dpi=300)\n",
    "plt.show()"
   ]
  },
  {
   "cell_type": "markdown",
   "id": "f73e2e4b-5a7f-44fe-92dd-e7586854604b",
   "metadata": {},
   "source": [
    "### Site-Year"
   ]
  },
  {
   "cell_type": "code",
   "execution_count": null,
   "id": "b28269d1-d4e6-42f6-ab44-7c2d2ad9a2bb",
   "metadata": {
    "tags": []
   },
   "outputs": [],
   "source": [
    "mse_acc_abl_UASWE, mse_acc_abl_LM, mse_acc_abl_P2M, mse_acc_abl_P3M, mse_acc_abl_RF, mse_acc_abl_NN = [], [], [], [], [], []\n",
    "mae_acc_abl_UASWE, mae_acc_abl_LM, mae_acc_abl_P2M, mae_acc_abl_P3M, mae_acc_abl_RF, mae_acc_abl_NN = [], [], [], [], [], []\n",
    "r2_acc_abl_UASWE, r2_acc_abl_LM, r2_acc_abl_P2M, r2_acc_abl_P3M, r2_acc_abl_RF, r2_acc_abl_NN = [], [], [], [], [], []"
   ]
  },
  {
   "cell_type": "code",
   "execution_count": null,
   "id": "df334362-59e8-4cba-8346-8e87f3046782",
   "metadata": {
    "tags": []
   },
   "outputs": [],
   "source": [
    "for site in np.unique(run_cum_dfs['sitecode']):\n",
    "    for wy in np.unique(run_cum_dfs['water_year']):\n",
    "        site_wy_df = run_cum_dfs[(run_cum_dfs['sitecode'] == site) & (run_cum_dfs['water_year'] == wy)]\n",
    "        \n",
    "        if not site_wy_df.empty:\n",
    "            # site_wy_df_clean = site_wy_df.dropna(subset=['abl_snw', 'pred_acc_abl_UASWE', \n",
    "            #                                  'pred_acc_abl_LM', 'pred_acc_abl_P2M', 'pred_acc_abl_P3M', \n",
    "            #                                  'pred_acc_abl_RF','pred_acc_abl_NN'\n",
    "            #                                 ], how='any', inplace=False)\n",
    "            # site_wy_df_clean = site_wy_df_clean[~pd.to_datetime(site_wy_df_clean['datetime']).dt.month.isin([7, 8, 9])]    # evaluate only on snow season\n",
    "            \n",
    "            mse_acc_abl_UASWE.append(mean_squared_error(site_wy_df['abl_snw'], site_wy_df['pred_acc_abl_UASWE'], squared=True))\n",
    "            mse_acc_abl_LM.append(mean_squared_error(site_wy_df['abl_snw'], site_wy_df['pred_acc_abl_LM'], squared=True))\n",
    "            mse_acc_abl_P2M.append(mean_squared_error(site_wy_df['abl_snw'], site_wy_df['pred_acc_abl_P2M'], squared=True))\n",
    "            mse_acc_abl_P3M.append(mean_squared_error(site_wy_df['abl_snw'], site_wy_df['pred_acc_abl_P3M'], squared=True))\n",
    "            mse_acc_abl_RF.append(mean_squared_error(site_wy_df['abl_snw'], site_wy_df['pred_acc_abl_RF'], squared=True))\n",
    "            mse_acc_abl_NN.append(mean_squared_error(site_wy_df['abl_snw'], site_wy_df['pred_acc_abl_NN'], squared=True))                    \n",
    "            mae_acc_abl_UASWE.append(np.mean(abs(site_wy_df['pred_acc_abl_UASWE'] - site_wy_df['abl_snw'])))\n",
    "            mae_acc_abl_LM.append(np.mean(abs(site_wy_df['pred_acc_abl_LM'] - site_wy_df['abl_snw'])))\n",
    "            mae_acc_abl_P2M.append(np.mean(abs(site_wy_df['pred_acc_abl_P2M'] - site_wy_df['abl_snw'])))\n",
    "            mae_acc_abl_P3M.append(np.mean(abs(site_wy_df['pred_acc_abl_P3M'] - site_wy_df['abl_snw'])))\n",
    "            mae_acc_abl_RF.append(np.mean(abs(site_wy_df['pred_acc_abl_RF'] - site_wy_df['abl_snw'])))\n",
    "            mae_acc_abl_NN.append(np.mean(abs(site_wy_df['pred_acc_abl_NN'] - site_wy_df['abl_snw'])))\n",
    "            r2_acc_abl_UASWE.append(r2_score(site_wy_df['abl_snw'], site_wy_df['pred_acc_abl_UASWE']))\n",
    "            r2_acc_abl_LM.append(r2_score(site_wy_df['abl_snw'], site_wy_df['pred_acc_abl_LM']))\n",
    "            r2_acc_abl_P2M.append(r2_score(site_wy_df['abl_snw'], site_wy_df['pred_acc_abl_P2M']))\n",
    "            r2_acc_abl_P3M.append(r2_score(site_wy_df['abl_snw'], site_wy_df['pred_acc_abl_P3M']))\n",
    "            r2_acc_abl_RF.append(r2_score(site_wy_df['abl_snw'], site_wy_df['pred_acc_abl_RF']))\n",
    "            r2_acc_abl_NN.append(r2_score(site_wy_df['abl_snw'], site_wy_df['pred_acc_abl_NN']))\n"
   ]
  },
  {
   "cell_type": "code",
   "execution_count": null,
   "id": "ba5a0b0f-58dd-4419-aee6-608d462cfe74",
   "metadata": {
    "tags": []
   },
   "outputs": [],
   "source": [
    "cum_metrics_med = {'UA SWE Reg': [np.median(mse_acc_abl_UASWE), np.median(mae_acc_abl_UASWE), np.median(r2_acc_abl_UASWE)],\n",
    "                   'Lin Reg': [np.median(mse_acc_abl_LM), np.median(mae_acc_abl_LM), np.median(r2_acc_abl_LM)],\n",
    "                   'Quad Reg': [np.median(mse_acc_abl_P2M), np.median(mae_acc_abl_P2M), np.median(r2_acc_abl_P2M)],\n",
    "                   # 'Quad Reg w/ Int': [p2im_mse, p2im_mae, p2im_rsq],\n",
    "                   'Cub Reg': [np.median(mse_acc_abl_P3M), np.median(mae_acc_abl_P3M), np.median(r2_acc_abl_P3M)],\n",
    "                   'RF': [np.median(mse_acc_abl_RF), np.median(mae_acc_abl_RF), np.median(r2_acc_abl_RF)],\n",
    "                   'NN': [np.median(mse_acc_abl_NN), np.median(mae_acc_abl_NN), np.median(r2_acc_abl_NN)]\n",
    "                   # 'GLM': [glm_mse, glm_mae, glm_rsq]\n",
    "                  }\n",
    "cum_metrics_mean = {'UA SWE Reg': [np.mean(mse_acc_abl_UASWE), np.mean(mae_acc_abl_UASWE), np.mean(r2_acc_abl_UASWE)],\n",
    "               'Lin Reg': [np.mean(mse_acc_abl_LM), np.mean(mae_acc_abl_LM), np.mean(r2_acc_abl_LM)],\n",
    "               'Quad Reg': [np.mean(mse_acc_abl_P2M), np.mean(mae_acc_abl_P2M), np.mean(r2_acc_abl_P2M)],\n",
    "               # 'Quad Reg w/ Int': [p2im_mse, p2im_mae, p2im_rsq],\n",
    "               'Cub Reg': [np.mean(mse_acc_abl_P3M), np.mean(mae_acc_abl_P3M), np.mean(r2_acc_abl_P3M)],\n",
    "               'RF': [np.mean(mse_acc_abl_RF), np.mean(mae_acc_abl_RF), np.mean(r2_acc_abl_RF)],\n",
    "               'NN': [np.mean(mse_acc_abl_NN), np.mean(mae_acc_abl_NN), np.mean(r2_acc_abl_NN)]\n",
    "               # 'GLM': [glm_mse, glm_mae, glm_rsq]\n",
    "              }\n",
    "cum_metrics_std = {'UA SWE Reg': [np.std(mse_acc_abl_UASWE), np.std(mae_acc_abl_UASWE), np.std(r2_acc_abl_UASWE)],\n",
    "               'Lin Reg': [np.std(mse_acc_abl_LM), np.std(mae_acc_abl_LM), np.std(r2_acc_abl_LM)],\n",
    "               'Quad Reg': [np.std(mse_acc_abl_P2M), np.std(mae_acc_abl_P2M), np.std(r2_acc_abl_P2M)],\n",
    "               # 'Quad Reg w/ Int': [p2im_mse, p2im_mae, p2im_rsq],\n",
    "               'Cub Reg': [np.std(mse_acc_abl_P3M), np.std(mae_acc_abl_P3M), np.std(r2_acc_abl_P3M)],\n",
    "               'RF': [np.std(mse_acc_abl_RF), np.std(mae_acc_abl_RF), np.std(r2_acc_abl_RF)],\n",
    "               'NN': [np.std(mse_acc_abl_NN), np.std(mae_acc_abl_NN), np.std(r2_acc_abl_NN)]\n",
    "               # 'GLM': [glm_mse, glm_mae, glm_rsq]\n",
    "              }"
   ]
  },
  {
   "cell_type": "code",
   "execution_count": null,
   "id": "35a6238c-1bf5-4c5b-915a-4bc41e8c040e",
   "metadata": {
    "tags": []
   },
   "outputs": [],
   "source": [
    "cum_abl_means = pd.DataFrame(cum_metrics_med, index=['MSE','MAE','R2'])"
   ]
  },
  {
   "cell_type": "code",
   "execution_count": null,
   "id": "6d9eb6f6-7182-4199-8c0f-7f2bd627becc",
   "metadata": {
    "tags": []
   },
   "outputs": [],
   "source": [
    "cum_abl_meds = pd.DataFrame(cum_metrics_mean, index=['MSE','MAE','R2'])"
   ]
  },
  {
   "cell_type": "code",
   "execution_count": null,
   "id": "571ce861-4142-42f5-9a03-0b6b461b82aa",
   "metadata": {
    "tags": []
   },
   "outputs": [],
   "source": [
    "cum_abl_stds = pd.DataFrame(cum_metrics_std, index=['MSE','MAE','R2'])"
   ]
  },
  {
   "cell_type": "code",
   "execution_count": null,
   "id": "ec1456b1-d3ef-4f15-813f-6a5aeb8d3958",
   "metadata": {
    "tags": []
   },
   "outputs": [],
   "source": [
    "cum_abl_means.to_csv(f'{save_dir}{mode}/cum_eval/cum_abl_means.csv')\n",
    "cum_abl_meds.to_csv(f'{save_dir}{mode}/cum_eval/cum_abl_meds.csv')\n",
    "cum_abl_stds.to_csv(f'{save_dir}{mode}/cum_eval/cum_abl_stds.csv')"
   ]
  },
  {
   "cell_type": "code",
   "execution_count": null,
   "id": "049ba4a3-a362-417a-b295-6c817ba75b38",
   "metadata": {
    "tags": []
   },
   "outputs": [],
   "source": [
    "cum_abl_means"
   ]
  },
  {
   "cell_type": "code",
   "execution_count": null,
   "id": "eb75d62c-66c2-4229-b03c-ca7d5d23a136",
   "metadata": {
    "tags": []
   },
   "outputs": [],
   "source": [
    "cum_abl_meds"
   ]
  },
  {
   "cell_type": "code",
   "execution_count": null,
   "id": "e3de0390-d547-4f41-bf58-7c351a346640",
   "metadata": {},
   "outputs": [],
   "source": []
  },
  {
   "cell_type": "markdown",
   "id": "0b53e9a9-9238-4c73-9f2d-f3d4492a953d",
   "metadata": {},
   "source": [
    "# SWE Evaluation"
   ]
  },
  {
   "cell_type": "markdown",
   "id": "6b3f8ac7-e4bc-4b37-8961-0f3f08ae0b0d",
   "metadata": {},
   "source": [
    "Load dataframes including model predictions across folds and remove summer months"
   ]
  },
  {
   "cell_type": "code",
   "execution_count": null,
   "id": "c13b5793-ae43-44de-b9b3-eab202f435e8",
   "metadata": {
    "tags": []
   },
   "outputs": [],
   "source": [
    "run_swe_dfs_lst = []"
   ]
  },
  {
   "cell_type": "code",
   "execution_count": null,
   "id": "b644a1ea-9571-4deb-9f0e-c449f679c28c",
   "metadata": {
    "tags": []
   },
   "outputs": [],
   "source": [
    "for k in range(nfolds):\n",
    "    run_fold_cum_dir = f'{run_root_dir}k={k}/{mode}/ALL_SITES_WY_DF.csv'\n",
    "    run_fold_cum_df = pd.read_csv(run_fold_cum_dir, index_col=0)\n",
    "    run_swe_dfs_lst.append(run_fold_cum_df)"
   ]
  },
  {
   "cell_type": "code",
   "execution_count": null,
   "id": "7e2d7443-f634-4c95-858b-dc341e8a0a8d",
   "metadata": {
    "tags": []
   },
   "outputs": [],
   "source": [
    "run_swe_dfs = pd.concat(run_swe_dfs_lst)"
   ]
  },
  {
   "cell_type": "code",
   "execution_count": null,
   "id": "9ebbcb59-b065-4fda-bb23-f9c042a75cf3",
   "metadata": {
    "tags": []
   },
   "outputs": [],
   "source": [
    "run_swe_dfs = run_swe_dfs[~pd.to_datetime(run_swe_dfs['datetime']).dt.month.isin([7, 8, 9])]"
   ]
  },
  {
   "cell_type": "markdown",
   "id": "b6ab2c36-20b1-47de-baff-10e96d2b20b2",
   "metadata": {},
   "source": [
    "## Aggregate"
   ]
  },
  {
   "cell_type": "markdown",
   "id": "974e4ef5-445f-4f49-b123-124c3d7bfd58",
   "metadata": {},
   "source": [
    "Compute performance metrics based on aggregating across all sites and dates."
   ]
  },
  {
   "cell_type": "code",
   "execution_count": null,
   "id": "51235e55-59b9-4ec0-8ed8-420118134670",
   "metadata": {
    "tags": []
   },
   "outputs": [],
   "source": [
    "swe_UASWE_r2, swe_UASWE_mae, swe_UASWE_mse = calculate_r2_mae_mse(run_swe_dfs['swe'], run_swe_dfs['UASWE'])\n",
    "swe_LM_r2, swe_LM_mae, swe_LM_mse = calculate_r2_mae_mse(run_swe_dfs['swe'], run_swe_dfs['pred_swe_LM'])\n",
    "swe_P2M_r2, swe_P2M_mae, swe_P2M_mse = calculate_r2_mae_mse(run_swe_dfs['swe'], run_swe_dfs['pred_swe_P2M'])\n",
    "swe_P3M_r2, swe_P3M_mae, swe_P3M_mse = calculate_r2_mae_mse(run_swe_dfs['swe'], run_swe_dfs['pred_swe_P3M'])\n",
    "swe_RF_r2, swe_RF_mae, swe_RF_mse = calculate_r2_mae_mse(run_swe_dfs['swe'], run_swe_dfs['pred_swe_RF'])\n",
    "swe_NN_r2, swe_NN_mae, swe_NN_mse = calculate_r2_mae_mse(run_swe_dfs['swe'], run_swe_dfs['pred_swe_NN'])"
   ]
  },
  {
   "cell_type": "code",
   "execution_count": null,
   "id": "bd332613-def8-424a-abbc-e650d0605a58",
   "metadata": {
    "tags": []
   },
   "outputs": [],
   "source": [
    "swe_metrics = {'UA SWE Reg': [swe_UASWE_mse, swe_UASWE_mae, swe_UASWE_r2],\n",
    "        'Lin Reg': [swe_LM_mse, swe_LM_mae, swe_LM_r2],\n",
    "        'Quad Reg': [swe_P2M_mse, swe_P2M_mae, swe_P2M_r2],\n",
    "        'Cub Reg': [swe_P3M_mse, swe_P3M_mae, swe_P3M_r2],\n",
    "        'RF': [swe_RF_mse, swe_RF_mae, swe_RF_r2],\n",
    "        'NN': [swe_NN_mse, swe_NN_mae, swe_NN_r2]\n",
    "       }"
   ]
  },
  {
   "cell_type": "code",
   "execution_count": null,
   "id": "cf699e34-0635-44a8-abed-eb133f953af6",
   "metadata": {
    "tags": []
   },
   "outputs": [],
   "source": [
    "# Creates pandas DataFrame.\n",
    "swe_metrics_df = pd.DataFrame(swe_metrics, index=['MSE', 'MAE', 'R2'])"
   ]
  },
  {
   "cell_type": "code",
   "execution_count": null,
   "id": "2dd98aa0-e7c9-45df-af9e-7cc4b73819b5",
   "metadata": {
    "tags": []
   },
   "outputs": [],
   "source": [
    "swe_metrics_df"
   ]
  },
  {
   "cell_type": "code",
   "execution_count": null,
   "id": "05c06698-412e-45c5-a6a8-cd27e1dbc66a",
   "metadata": {
    "tags": []
   },
   "outputs": [],
   "source": [
    "swe_metrics_df.to_csv(f'{save_dir}{mode}/swe_eval/aggregate_scheme/swe_abl_metrics.csv')"
   ]
  },
  {
   "cell_type": "markdown",
   "id": "387d1c5a-81d2-4c8e-a820-354950d06ab7",
   "metadata": {},
   "source": [
    "## Climatological"
   ]
  },
  {
   "cell_type": "markdown",
   "id": "3dc052fc-188d-4a07-bdb2-f90c0db28738",
   "metadata": {},
   "source": [
    "Compute metrics for each day, across sites and years."
   ]
  },
  {
   "cell_type": "code",
   "execution_count": null,
   "id": "899a3771-9c5d-455c-b456-1ae4d558aa03",
   "metadata": {
    "tags": []
   },
   "outputs": [],
   "source": [
    "UASWE_metrics = run_swe_dfs[['datetime', 'swe', 'UASWE']].rename(columns={'swe':'Actual', 'UASWE':'Predicted'}).groupby([pd.to_datetime(run_swe_dfs['datetime']).dt.month, pd.to_datetime(run_swe_dfs['datetime']).dt.day])\n"
   ]
  },
  {
   "cell_type": "code",
   "execution_count": null,
   "id": "df77b87a-b2c3-40c0-a15b-e0b3e8a86d61",
   "metadata": {
    "tags": []
   },
   "outputs": [],
   "source": [
    "run_noswe_dfs = run_cum_dfs.copy()"
   ]
  },
  {
   "cell_type": "code",
   "execution_count": null,
   "id": "76b42925-7de1-431a-8777-4f16e7857eef",
   "metadata": {
    "tags": []
   },
   "outputs": [],
   "source": [
    "UASWE_metrics = run_swe_dfs[['datetime', 'swe', 'UASWE']].rename(columns={'swe':'Actual', 'UASWE':'Predicted'}).groupby([pd.to_datetime(run_swe_dfs['datetime']).dt.month, pd.to_datetime(run_swe_dfs['datetime']).dt.day]).apply(metrics)\n",
    "UASWE_metrics.index.names=['Month','Day']\n",
    "# UASWE_metrics.index.get_level_values('Month')\n",
    "# UASWE_metrics = UASWE_metrics.drop([7,8,9], level='Month')\n",
    "\n",
    "LM_metrics = run_swe_dfs[['datetime', 'swe', 'pred_swe_LM']].rename(columns={'swe':'Actual', 'pred_swe_LM':'Predicted'}).groupby([pd.to_datetime(run_swe_dfs['datetime']).dt.month, pd.to_datetime(run_swe_dfs['datetime']).dt.day]).apply(metrics)\n",
    "LM_metrics.index.names=['Month','Day']\n",
    "# LM_metrics.index.get_level_values('Month')\n",
    "# LM_metrics = LM_metrics.drop([7,8,9], level='Month')\n",
    "\n",
    "P2M_metrics = run_swe_dfs[['datetime', 'swe', 'pred_swe_P2M']].rename(columns={'swe':'Actual', 'pred_swe_P2M':'Predicted'}).groupby([pd.to_datetime(run_swe_dfs['datetime']).dt.month, pd.to_datetime(run_swe_dfs['datetime']).dt.day]).apply(metrics)\n",
    "P2M_metrics.index.names=['Month','Day']\n",
    "# P2M_metrics.index.get_level_values('Month')\n",
    "# P2M_metrics = P2M_metrics.drop([7,8,9], level='Month')\n",
    "\n",
    "P3M_metrics = run_swe_dfs[['datetime', 'swe', 'pred_swe_P3M']].rename(columns={'swe':'Actual', 'pred_swe_P3M':'Predicted'}).groupby([pd.to_datetime(run_swe_dfs['datetime']).dt.month, pd.to_datetime(run_swe_dfs['datetime']).dt.day]).apply(metrics)\n",
    "P3M_metrics.index.names=['Month','Day']\n",
    "# P3M_metrics.index.get_level_values('Month')\n",
    "# P3M_metrics = P3M_metrics.drop([7,8,9], level='Month')\n",
    "\n",
    "RF_metrics = run_swe_dfs[['datetime', 'swe', 'pred_swe_RF']].rename(columns={'swe':'Actual', 'pred_swe_RF':'Predicted'}).groupby([pd.to_datetime(run_swe_dfs['datetime']).dt.month, pd.to_datetime(run_swe_dfs['datetime']).dt.day]).apply(metrics)\n",
    "RF_metrics.index.names=['Month','Day']\n",
    "# RF_metrics.index.get_level_values('Month')\n",
    "# RF_metrics = RF_metrics.drop([7,8,9], level='Month')\n",
    "\n",
    "NN_metrics = run_swe_dfs[['datetime', 'swe', 'pred_swe_NN']].rename(columns={'swe':'Actual', 'pred_swe_NN':'Predicted'}).groupby([pd.to_datetime(run_swe_dfs['datetime']).dt.month, pd.to_datetime(run_swe_dfs['datetime']).dt.day]).apply(metrics)\n",
    "NN_metrics.index.names=['Month','Day']\n",
    "# NN_metrics.index.get_level_values('Month')\n",
    "# NN_metrics = NN_metrics.drop([7,8,9], level='Month')"
   ]
  },
  {
   "cell_type": "code",
   "execution_count": null,
   "id": "b5de19b4-4dfa-4fd6-8d5b-e91854df8f14",
   "metadata": {
    "tags": []
   },
   "outputs": [],
   "source": [
    "UASWE_metrics['date'] = UASWE_metrics.index.get_level_values('Month').astype(str) + '-' + UASWE_metrics.index.get_level_values('Day').astype(str)\n",
    "LM_metrics['date'] = LM_metrics.index.get_level_values('Month').astype(str) + '-' + LM_metrics.index.get_level_values('Day').astype(str)\n",
    "P2M_metrics['date'] = P2M_metrics.index.get_level_values('Month').astype(str) + '-' + P2M_metrics.index.get_level_values('Day').astype(str)\n",
    "P3M_metrics['date'] = P3M_metrics.index.get_level_values('Month').astype(str) + '-' + P3M_metrics.index.get_level_values('Day').astype(str)\n",
    "RF_metrics['date'] = RF_metrics.index.get_level_values('Month').astype(str) + '-' + RF_metrics.index.get_level_values('Day').astype(str)\n",
    "NN_metrics['date'] = NN_metrics.index.get_level_values('Month').astype(str) + '-' + NN_metrics.index.get_level_values('Day').astype(str)"
   ]
  },
  {
   "cell_type": "code",
   "execution_count": null,
   "id": "f4611ffc-09e4-46dd-8f98-8e9a2db735b4",
   "metadata": {
    "tags": []
   },
   "outputs": [],
   "source": [
    "plt.clf()\n",
    "fig, ax = plt.subplots(figsize=(24, 6))\n",
    "ax.plot(pd.concat([UASWE_metrics[181:]['date'], UASWE_metrics[:181]['date']]).values, pd.concat([UASWE_metrics[181:]['mse'], UASWE_metrics[:181]['mse']]).values, label='UA', color='black')\n",
    "ax.plot(pd.concat([LM_metrics[181:]['date'], LM_metrics[:181]['date']]).values, pd.concat([LM_metrics[181:]['mse'], LM_metrics[:181]['mse']]).values, label='LM')\n",
    "ax.plot(pd.concat([P2M_metrics[181:]['date'], P2M_metrics[:181]['date']]).values, pd.concat([P2M_metrics[181:]['mse'], P2M_metrics[:181]['mse']]).values, label='P2M')\n",
    "ax.plot(pd.concat([P3M_metrics[181:]['date'], P3M_metrics[:181]['date']]).values, pd.concat([P3M_metrics[181:]['mse'], P3M_metrics[:181]['mse']]).values, label='P3M')\n",
    "ax.plot(pd.concat([RF_metrics[181:]['date'], RF_metrics[:181]['date']]).values, pd.concat([RF_metrics[181:]['mse'], RF_metrics[:181]['mse']]).values, label='RF')\n",
    "ax.plot(pd.concat([NN_metrics[181:]['date'], NN_metrics[:181]['date']]).values, pd.concat([NN_metrics[181:]['mse'], NN_metrics[:181]['mse']]).values, label='NN')\n",
    "ax.set_xticks(ax.get_xticks()[::30])   # tick at every 30th entry\n",
    "ax.set_xticklabels(ax.get_xticks(), rotation=90)\n",
    "ax.set_xticklabels(list(pd.concat([UASWE_metrics[181:]['date'], UASWE_metrics[:181]['date']]).values)[::30])    # tick labels at every 30th entry\n",
    "ax.set_title('SWE: MSE')\n",
    "ax.legend()\n",
    "# ax.axhline(200, linestyle='--', color='lightgrey')\n",
    "# plt.savefig(f'{save_dir}{mode}/swe_eval/climatological_scheme/swe_mse_climat.png', dpi=300)\n",
    "plt.show()\n",
    "\n",
    "plt.clf()\n",
    "fig, ax = plt.subplots(figsize=(24, 6))\n",
    "ax.plot(pd.concat([UASWE_metrics[181:]['date'], UASWE_metrics[:181]['date']]).values, pd.concat([UASWE_metrics[181:]['rmse'], UASWE_metrics[:181]['rmse']]).values, label='UA', color='black')\n",
    "ax.plot(pd.concat([LM_metrics[181:]['date'], LM_metrics[:181]['date']]).values, pd.concat([LM_metrics[181:]['rmse'], LM_metrics[:181]['rmse']]).values, label='LM')\n",
    "ax.plot(pd.concat([P2M_metrics[181:]['date'], P2M_metrics[:181]['date']]).values, pd.concat([P2M_metrics[181:]['rmse'], P2M_metrics[:181]['rmse']]).values, label='P2M')\n",
    "ax.plot(pd.concat([P3M_metrics[181:]['date'], P3M_metrics[:181]['date']]).values, pd.concat([P3M_metrics[181:]['rmse'], P3M_metrics[:181]['rmse']]).values, label='P3M')\n",
    "ax.plot(pd.concat([RF_metrics[181:]['date'], RF_metrics[:181]['date']]).values, pd.concat([RF_metrics[181:]['rmse'], RF_metrics[:181]['rmse']]).values, label='RF')\n",
    "ax.plot(pd.concat([NN_metrics[181:]['date'], NN_metrics[:181]['date']]).values, pd.concat([NN_metrics[181:]['rmse'], NN_metrics[:181]['rmse']]).values, label='NN')\n",
    "ax.set_xticks(ax.get_xticks()[::30])   # tick at every 30th entry\n",
    "ax.set_xticklabels(ax.get_xticks(), rotation=90)\n",
    "ax.set_xticklabels(list(pd.concat([UASWE_metrics[181:]['date'], UASWE_metrics[:181]['date']]).values)[::30])    # tick labels at every 30th entry\n",
    "ax.set_title('SWE: RMSE')\n",
    "ax.legend()\n",
    "# ax.axhline(200, linestyle='--', color='lightgrey')\n",
    "ax.set_ylim(0,200)\n",
    "# plt.savefig(f'{save_dir}{mode}/swe_eval/climatological_scheme/swe_rmse_climat.png', dpi=300)\n",
    "plt.show()\n",
    "\n",
    "plt.clf()\n",
    "fig, ax = plt.subplots(figsize=(24, 6))\n",
    "ax.plot(pd.concat([UASWE_metrics[181:]['date'], UASWE_metrics[:181]['date']]).values, pd.concat([UASWE_metrics[181:]['mae'], UASWE_metrics[:181]['mae']]).values, label='UA', color='black')\n",
    "ax.plot(pd.concat([LM_metrics[181:]['date'], LM_metrics[:181]['date']]).values, pd.concat([LM_metrics[181:]['mae'], LM_metrics[:181]['mae']]).values, label='LM')\n",
    "ax.plot(pd.concat([P2M_metrics[181:]['date'], P2M_metrics[:181]['date']]).values, pd.concat([P2M_metrics[181:]['mae'], P2M_metrics[:181]['mae']]).values, label='P2M')\n",
    "ax.plot(pd.concat([P3M_metrics[181:]['date'], P3M_metrics[:181]['date']]).values, pd.concat([P3M_metrics[181:]['mae'], P3M_metrics[:181]['mae']]).values, label='P3M')\n",
    "ax.plot(pd.concat([RF_metrics[181:]['date'], RF_metrics[:181]['date']]).values, pd.concat([RF_metrics[181:]['mae'], RF_metrics[:181]['mae']]).values, label='RF')\n",
    "ax.plot(pd.concat([NN_metrics[181:]['date'], NN_metrics[:181]['date']]).values, pd.concat([NN_metrics[181:]['mae'], NN_metrics[:181]['mae']]).values, label='NN')\n",
    "ax.set_xticks(ax.get_xticks()[::30])   # tick at every 30th entry\n",
    "ax.set_xticklabels(ax.get_xticks(), rotation=90)\n",
    "ax.set_xticklabels(list(pd.concat([UASWE_metrics[181:]['date'], UASWE_metrics[:181]['date']]).values)[::30])    # tick labels at every 30th entry\n",
    "ax.set_title('SWE: MAE')\n",
    "ax.legend()\n",
    "# ax.axhline(200, linestyle='--', color='lightgrey')\n",
    "# plt.savefig(f'{save_dir}{mode}/swe_eval/climatological_scheme/swe_mae_climat.png', dpi=300)\n",
    "plt.show()\n",
    "\n",
    "plt.clf()\n",
    "fig, ax = plt.subplots(figsize=(24, 6))\n",
    "ax.plot(pd.concat([UASWE_metrics[181:]['date'], UASWE_metrics[:181]['date']]).values, pd.concat([UASWE_metrics[181:]['r2'], UASWE_metrics[:181]['r2']]).values, label='UA', color='black')\n",
    "ax.plot(pd.concat([LM_metrics[181:]['date'], LM_metrics[:181]['date']]).values, pd.concat([LM_metrics[181:]['r2'], LM_metrics[:181]['r2']]).values, label='LM')\n",
    "ax.plot(pd.concat([P2M_metrics[181:]['date'], P2M_metrics[:181]['date']]).values, pd.concat([P2M_metrics[181:]['r2'], P2M_metrics[:181]['r2']]).values, label='P2M')\n",
    "ax.plot(pd.concat([P3M_metrics[181:]['date'], P3M_metrics[:181]['date']]).values, pd.concat([P3M_metrics[181:]['r2'], P3M_metrics[:181]['r2']]).values, label='P3M')\n",
    "ax.plot(pd.concat([RF_metrics[181:]['date'], RF_metrics[:181]['date']]).values, pd.concat([RF_metrics[181:]['r2'], RF_metrics[:181]['r2']]).values, label='RF')\n",
    "ax.plot(pd.concat([NN_metrics[181:]['date'], NN_metrics[:181]['date']]).values, pd.concat([NN_metrics[181:]['r2'], NN_metrics[:181]['r2']]).values, label='NN')\n",
    "ax.set_xticks(ax.get_xticks()[::30])   # tick at every 30th entry\n",
    "ax.set_xticklabels(ax.get_xticks(), rotation=90)\n",
    "ax.set_xticklabels(list(pd.concat([UASWE_metrics[181:]['date'], UASWE_metrics[:181]['date']]).values)[::30])    # tick labels at every 30th entry\n",
    "ax.set_title('SWE: R2')\n",
    "ax.legend()\n",
    "ax.set_ylim(-1, 1)\n",
    "ax.axhline(0, linestyle='--', color='lightgrey')\n",
    "# plt.savefig(f'{save_dir}{mode}/swe_eval/climatological_scheme/swe_r2_climat.png', dpi=300)\n",
    "plt.show()"
   ]
  },
  {
   "cell_type": "markdown",
   "id": "acb6d2c5-acee-4dae-adf8-f5003588fe51",
   "metadata": {},
   "source": [
    "## Site-Year"
   ]
  },
  {
   "cell_type": "markdown",
   "id": "cc9f7657-416f-4079-8353-ae721a7552b1",
   "metadata": {},
   "source": [
    "Compute metrics by site-year."
   ]
  },
  {
   "cell_type": "code",
   "execution_count": null,
   "id": "0005bce9-7c66-4333-b070-138d16981ec0",
   "metadata": {
    "tags": []
   },
   "outputs": [],
   "source": [
    "mse_swe_UASWE, mse_swe_LM, mse_swe_P2M, mse_swe_P3M, mse_swe_RF, mse_swe_NN = [], [], [], [], [], []\n",
    "mae_swe_UASWE, mae_swe_LM, mae_swe_P2M, mae_swe_P3M, mae_swe_RF, mae_swe_NN = [], [], [], [], [], []\n",
    "r2_swe_UASWE, r2_swe_LM, r2_swe_P2M, r2_swe_P3M, r2_swe_RF, r2_swe_NN = [], [], [], [], [], []"
   ]
  },
  {
   "cell_type": "code",
   "execution_count": null,
   "id": "7253a248-28b5-4cec-8260-89206a4fa28d",
   "metadata": {
    "tags": []
   },
   "outputs": [],
   "source": [
    "for site in np.unique(run_swe_dfs['sitecode']):\n",
    "    for wy in np.unique(run_swe_dfs['water_year']):\n",
    "        site_wy_df = run_swe_dfs[(run_swe_dfs['sitecode'] == site) & (run_swe_dfs['water_year'] == wy)]\n",
    "        \n",
    "        if not site_wy_df.empty:\n",
    "            \n",
    "            mse_swe_UASWE.append(mean_squared_error(site_wy_df['swe'], site_wy_df['UASWE'], squared=True))\n",
    "            mse_swe_LM.append(mean_squared_error(site_wy_df['swe'], site_wy_df['pred_swe_LM'], squared=True))\n",
    "            mse_swe_P2M.append(mean_squared_error(site_wy_df['swe'], site_wy_df['pred_swe_P2M'], squared=True))\n",
    "            mse_swe_P3M.append(mean_squared_error(site_wy_df['swe'], site_wy_df['pred_swe_P3M'], squared=True))\n",
    "            mse_swe_RF.append(mean_squared_error(site_wy_df['swe'], site_wy_df['pred_swe_RF'], squared=True))\n",
    "            mse_swe_NN.append(mean_squared_error(site_wy_df['swe'], site_wy_df['pred_swe_NN'], squared=True))     \n",
    "            mae_swe_UASWE.append(np.mean(abs(site_wy_df['UASWE'] - site_wy_df['swe'])))\n",
    "            mae_swe_LM.append(np.mean(abs(site_wy_df['pred_swe_LM'] - site_wy_df['swe'])))\n",
    "            mae_swe_P2M.append(np.mean(abs(site_wy_df['pred_swe_P2M'] - site_wy_df['swe'])))\n",
    "            mae_swe_P3M.append(np.mean(abs(site_wy_df['pred_swe_P3M'] - site_wy_df['swe'])))\n",
    "            mae_swe_RF.append(np.mean(abs(site_wy_df['pred_swe_RF'] - site_wy_df['swe'])))\n",
    "            mae_swe_NN.append(np.mean(abs(site_wy_df['pred_swe_NN'] - site_wy_df['swe'])))\n",
    "            r2_swe_UASWE.append(r2_score(site_wy_df['swe'], site_wy_df['UASWE']))\n",
    "            r2_swe_LM.append(r2_score(site_wy_df['swe'], site_wy_df['pred_swe_LM']))\n",
    "            r2_swe_P2M.append(r2_score(site_wy_df['swe'], site_wy_df['pred_swe_P2M']))\n",
    "            r2_swe_P3M.append(r2_score(site_wy_df['swe'], site_wy_df['pred_swe_P3M']))\n",
    "            r2_swe_RF.append(r2_score(site_wy_df['swe'], site_wy_df['pred_swe_RF']))\n",
    "            r2_swe_NN.append(r2_score(site_wy_df['swe'], site_wy_df['pred_swe_NN']))\n"
   ]
  },
  {
   "cell_type": "code",
   "execution_count": null,
   "id": "63821164-42e6-44fa-a456-346825dd4b5d",
   "metadata": {
    "tags": []
   },
   "outputs": [],
   "source": [
    "swe_metrics_med = {'UA SWE Reg': [np.median(mse_swe_UASWE), np.median(mae_swe_UASWE), np.median(r2_swe_UASWE)],\n",
    "                   'Lin Reg': [np.median(mse_swe_LM), np.median(mae_swe_LM), np.median(r2_swe_LM)],\n",
    "                   'Quad Reg': [np.median(mse_swe_P2M), np.median(mae_swe_P2M), np.median(r2_swe_P2M)],\n",
    "                   'Cub Reg': [np.median(mse_swe_P3M), np.median(mae_swe_P3M), np.median(r2_swe_P3M)],\n",
    "                   'RF': [np.median(mse_swe_RF), np.median(mae_swe_RF), np.median(r2_swe_RF)],\n",
    "                   'NN': [np.median(mse_swe_NN), np.median(mae_swe_NN), np.median(r2_swe_NN)]\n",
    "                  }\n",
    "swe_metrics_mean = {'UA SWE Reg': [np.mean(mse_swe_UASWE), np.mean(mae_swe_UASWE), np.mean(r2_swe_UASWE)],\n",
    "               'Lin Reg': [np.mean(mse_swe_LM), np.mean(mae_swe_LM), np.mean(r2_swe_LM)],\n",
    "               'Quad Reg': [np.mean(mse_swe_P2M), np.mean(mae_swe_P2M), np.mean(r2_swe_P2M)],\n",
    "               'Cub Reg': [np.mean(mse_swe_P3M), np.mean(mae_swe_P3M), np.mean(r2_swe_P3M)],\n",
    "               'RF': [np.mean(mse_swe_RF), np.mean(mae_swe_RF), np.mean(r2_swe_RF)],\n",
    "               'NN': [np.mean(mse_swe_NN), np.mean(mae_swe_NN), np.mean(r2_swe_NN)]\n",
    "              }\n",
    "swe_metrics_std = {'UA SWE Reg': [np.std(mse_swe_UASWE), np.std(mae_swe_UASWE), np.std(r2_swe_UASWE)],\n",
    "               'Lin Reg': [np.std(mse_swe_LM), np.std(mae_swe_LM), np.std(r2_swe_LM)],\n",
    "               'Quad Reg': [np.std(mse_swe_P2M), np.std(mae_swe_P2M), np.std(r2_swe_P2M)],\n",
    "               'Cub Reg': [np.std(mse_swe_P3M), np.std(mae_swe_P3M), np.std(r2_swe_P3M)],\n",
    "               'RF': [np.std(mse_swe_RF), np.std(mae_swe_RF), np.std(r2_swe_RF)],\n",
    "               'NN': [np.std(mse_swe_NN), np.std(mae_swe_NN), np.std(r2_swe_NN)]\n",
    "              }"
   ]
  },
  {
   "cell_type": "code",
   "execution_count": null,
   "id": "325ab500-8be4-4b1c-aa60-c5b3831c0bfd",
   "metadata": {
    "tags": []
   },
   "outputs": [],
   "source": [
    "swe_abl_means = pd.DataFrame(swe_metrics_mean, index=['MSE','MAE','R2'])"
   ]
  },
  {
   "cell_type": "code",
   "execution_count": null,
   "id": "f30e1083-eeee-44ea-92e0-0e24bbb05c6f",
   "metadata": {
    "tags": []
   },
   "outputs": [],
   "source": [
    "swe_abl_meds = pd.DataFrame(swe_metrics_med, index=['MSE','MAE','R2'])"
   ]
  },
  {
   "cell_type": "code",
   "execution_count": null,
   "id": "59ee5c88-34d3-4ec1-9629-7559d89715f8",
   "metadata": {
    "tags": []
   },
   "outputs": [],
   "source": [
    "swe_abl_stds = pd.DataFrame(swe_metrics_std, index=['MSE','MAE','R2'])"
   ]
  },
  {
   "cell_type": "code",
   "execution_count": null,
   "id": "c35ba5d1-9dcb-4b75-8ff1-477a19c433ea",
   "metadata": {
    "tags": []
   },
   "outputs": [],
   "source": [
    "swe_abl_means.to_csv(f'{save_dir}{mode}/swe_eval/site_year_scheme/swe_abl_means.csv')\n",
    "swe_abl_meds.to_csv(f'{save_dir}{mode}/swe_eval/site_year_scheme/swe_abl_meds.csv')\n",
    "swe_abl_stds.to_csv(f'{save_dir}{mode}/swe_eval/site_year_scheme/swe_abl_stds.csv')"
   ]
  },
  {
   "cell_type": "code",
   "execution_count": null,
   "id": "02cdc69b-0a70-45f7-bd11-7a4e7bb13e15",
   "metadata": {
    "tags": []
   },
   "outputs": [],
   "source": [
    "swe_abl_means"
   ]
  },
  {
   "cell_type": "code",
   "execution_count": null,
   "id": "b544f584-bd47-4c9d-b4b2-410c31afba79",
   "metadata": {
    "tags": []
   },
   "outputs": [],
   "source": [
    "swe_abl_meds"
   ]
  },
  {
   "cell_type": "code",
   "execution_count": null,
   "id": "603fef01-f6fc-4e46-a139-9c80862f1caf",
   "metadata": {},
   "outputs": [],
   "source": []
  },
  {
   "cell_type": "markdown",
   "id": "563310fb-ce20-411b-8b1a-aa5c30083a75",
   "metadata": {
    "tags": []
   },
   "source": [
    "# Climatological SWE Time Series"
   ]
  },
  {
   "cell_type": "markdown",
   "id": "4d00da03-22ed-45e4-9c1f-fb92fe975a90",
   "metadata": {},
   "source": [
    "Generate climatological time series of SWE model predictions and compare it to that of SNOTEL SWE."
   ]
  },
  {
   "cell_type": "code",
   "execution_count": null,
   "id": "fda5f7c5-d011-4621-9241-6d0734a212b8",
   "metadata": {
    "tags": []
   },
   "outputs": [],
   "source": [
    "dfs_sub = run_swe_dfs[['datetime', 'swe', 'UASWE', 'pred_swe_UASWE',\n",
    "       'pred_swe_LM', 'pred_swe_P2M', 'pred_swe_P3M', 'pred_swe_RF',\n",
    "       'pred_swe_NN']]"
   ]
  },
  {
   "cell_type": "code",
   "execution_count": null,
   "id": "e68c2da1-6f41-441e-aa30-6960c8d90efd",
   "metadata": {
    "tags": []
   },
   "outputs": [],
   "source": [
    "snotel_swe_mean = dfs_sub.groupby([(pd.to_datetime(dfs_sub['datetime']).dt.month),(pd.to_datetime(dfs_sub['datetime']).dt.day)])['swe'].mean()\n",
    "uaswe_swe_mean = dfs_sub.groupby([(pd.to_datetime(dfs_sub['datetime']).dt.month),(pd.to_datetime(dfs_sub['datetime']).dt.day)])['UASWE'].mean()\n",
    "myswe_swe_mean = dfs_sub.groupby([(pd.to_datetime(dfs_sub['datetime']).dt.month),(pd.to_datetime(dfs_sub['datetime']).dt.day)])['pred_swe_UASWE'].mean()\n",
    "lm_swe_mean = dfs_sub.groupby([(pd.to_datetime(dfs_sub['datetime']).dt.month),(pd.to_datetime(dfs_sub['datetime']).dt.day)])['pred_swe_LM'].mean()\n",
    "p2m_swe_mean = dfs_sub.groupby([(pd.to_datetime(dfs_sub['datetime']).dt.month),(pd.to_datetime(dfs_sub['datetime']).dt.day)])['pred_swe_P2M'].mean()\n",
    "p3m_swe_mean = dfs_sub.groupby([(pd.to_datetime(dfs_sub['datetime']).dt.month),(pd.to_datetime(dfs_sub['datetime']).dt.day)])['pred_swe_P3M'].mean()\n",
    "rf_swe_mean = dfs_sub.groupby([(pd.to_datetime(dfs_sub['datetime']).dt.month),(pd.to_datetime(dfs_sub['datetime']).dt.day)])['pred_swe_RF'].mean()\n",
    "nn_swe_mean = dfs_sub.groupby([(pd.to_datetime(dfs_sub['datetime']).dt.month),(pd.to_datetime(dfs_sub['datetime']).dt.day)])['pred_swe_NN'].mean()"
   ]
  },
  {
   "cell_type": "code",
   "execution_count": null,
   "id": "33c279eb-ead9-42b2-9d68-07e57c8b1a97",
   "metadata": {
    "tags": []
   },
   "outputs": [],
   "source": [
    "# print(lm_swe_mean, p2m_swe_mean, p3m_swe_mean, rf_swe_mean)"
   ]
  },
  {
   "cell_type": "code",
   "execution_count": null,
   "id": "4f251fa5-7c91-47fe-a887-e1bca6a39b29",
   "metadata": {
    "tags": []
   },
   "outputs": [],
   "source": [
    "snotel_swe_mean.index.names = ['Month', 'Day']\n",
    "uaswe_swe_mean.index.names = ['Month', 'Day']\n",
    "myswe_swe_mean.index.names = ['Month', 'Day']\n",
    "lm_swe_mean.index.names = ['Month', 'Day']\n",
    "p2m_swe_mean.index.names = ['Month', 'Day']\n",
    "p3m_swe_mean.index.names = ['Month', 'Day']\n",
    "rf_swe_mean.index.names = ['Month', 'Day']\n",
    "nn_swe_mean.index.names = ['Month', 'Day']"
   ]
  },
  {
   "cell_type": "code",
   "execution_count": null,
   "id": "95fa049b-5fb2-499b-bce1-24c1a6f0c970",
   "metadata": {
    "tags": []
   },
   "outputs": [],
   "source": [
    "snotel_swe_mean = snotel_swe_mean.to_frame()\n",
    "uaswe_swe_mean = uaswe_swe_mean.to_frame()\n",
    "myswe_swe_mean = myswe_swe_mean.to_frame()\n",
    "lm_swe_mean = lm_swe_mean.to_frame()\n",
    "p2m_swe_mean = p2m_swe_mean.to_frame()\n",
    "p3m_swe_mean = p3m_swe_mean.to_frame()\n",
    "rf_swe_mean = rf_swe_mean.to_frame()\n",
    "nn_swe_mean = nn_swe_mean.to_frame()"
   ]
  },
  {
   "cell_type": "code",
   "execution_count": null,
   "id": "23be4c55-ef2e-481d-856d-566b9bea286f",
   "metadata": {
    "tags": []
   },
   "outputs": [],
   "source": [
    "snotel_swe_mean['date'] = snotel_swe_mean.index.get_level_values('Month').astype(str) + '-' + snotel_swe_mean.index.get_level_values('Day').astype(str)\n",
    "uaswe_swe_mean['date'] = uaswe_swe_mean.index.get_level_values('Month').astype(str) + '-' + uaswe_swe_mean.index.get_level_values('Day').astype(str)\n",
    "myswe_swe_mean['date'] = myswe_swe_mean.index.get_level_values('Month').astype(str) + '-' + myswe_swe_mean.index.get_level_values('Day').astype(str)\n",
    "lm_swe_mean['date'] = lm_swe_mean.index.get_level_values('Month').astype(str) + '-' + lm_swe_mean.index.get_level_values('Day').astype(str)\n",
    "p2m_swe_mean['date'] = p2m_swe_mean.index.get_level_values('Month').astype(str) + '-' + p2m_swe_mean.index.get_level_values('Day').astype(str)\n",
    "p3m_swe_mean['date'] = p3m_swe_mean.index.get_level_values('Month').astype(str) + '-' + p3m_swe_mean.index.get_level_values('Day').astype(str)\n",
    "rf_swe_mean['date'] = rf_swe_mean.index.get_level_values('Month').astype(str) + '-' + rf_swe_mean.index.get_level_values('Day').astype(str)\n",
    "nn_swe_mean['date'] = nn_swe_mean.index.get_level_values('Month').astype(str) + '-' + nn_swe_mean.index.get_level_values('Day').astype(str)"
   ]
  },
  {
   "cell_type": "code",
   "execution_count": null,
   "id": "fd157573-4488-41d1-aed1-1e970358ac07",
   "metadata": {
    "tags": []
   },
   "outputs": [],
   "source": [
    "fig, ax = plt.subplots(figsize=(24, 6))\n",
    "ax.plot(pd.concat([snotel_swe_mean[181:]['date'], snotel_swe_mean[:181]['date']]).values, pd.concat([snotel_swe_mean[181:]['swe'], snotel_swe_mean[:181]['swe']]).values, label='SNOTEL SWE', color='black')\n",
    "ax.plot(pd.concat([uaswe_swe_mean[181:]['date'], uaswe_swe_mean[:181]['date']]).values, pd.concat([uaswe_swe_mean[181:]['UASWE'], uaswe_swe_mean[:181]['UASWE']]).values, label='UA SWE', color='grey')\n",
    "ax.plot(pd.concat([myswe_swe_mean[181:]['date'], myswe_swe_mean[:181]['date']]).values, pd.concat([myswe_swe_mean[181:]['pred_swe_UASWE'], myswe_swe_mean[:181]['pred_swe_UASWE']]).values, label='UA SWE [MY]')\n",
    "ax.plot(pd.concat([lm_swe_mean[181:]['date'], lm_swe_mean[:181]['date']]).values, pd.concat([lm_swe_mean[181:]['pred_swe_LM'], lm_swe_mean[:181]['pred_swe_LM']]).values, label='LM-derived SWE')\n",
    "ax.plot(pd.concat([p2m_swe_mean[181:]['date'], p2m_swe_mean[:181]['date']]).values, pd.concat([p2m_swe_mean[181:]['pred_swe_P2M'], p2m_swe_mean[:181]['pred_swe_P2M']]).values, label='P2M-derived SWE')\n",
    "ax.plot(pd.concat([p3m_swe_mean[181:]['date'], p3m_swe_mean[:181]['date']]).values, pd.concat([p3m_swe_mean[181:]['pred_swe_P3M'], p3m_swe_mean[:181]['pred_swe_P3M']]).values, label='P3M-derived SWE')\n",
    "ax.plot(pd.concat([rf_swe_mean[181:]['date'], rf_swe_mean[:181]['date']]).values, pd.concat([rf_swe_mean[181:]['pred_swe_RF'], rf_swe_mean[:181]['pred_swe_RF']]).values, label='RF-derived SWE')\n",
    "ax.plot(pd.concat([nn_swe_mean[181:]['date'], nn_swe_mean[:181]['date']]).values, pd.concat([nn_swe_mean[181:]['pred_swe_NN'], nn_swe_mean[:181]['pred_swe_NN']]).values, label='NN-derived SWE')\n",
    "ax.set_xticks(ax.get_xticks()[::30])   # tick at every 30th entry\n",
    "ax.set_xticklabels(ax.get_xticks(), rotation=90)\n",
    "ax.set_xticklabels(list(pd.concat([snotel_swe_mean[181:]['date'], snotel_swe_mean[:181]['date']]).values)[::30])    # tick labels at every 30th entry\n",
    "ax.set_title('Mean SWE on Each Date Across Sites and Years')\n",
    "ax.set_ylabel('Mean SWE (mm)')\n",
    "ax.set_xlabel('Date')\n",
    "ax.legend()\n",
    "# ax.set_ylim(0,700)\n",
    "# ax.axhline(200, linestyle='--', color='lightgrey')\n",
    "# plt.savefig(f'{save_dir}{mode}/mean_swe_ts.png', dpi=300)"
   ]
  },
  {
   "cell_type": "code",
   "execution_count": null,
   "id": "b43f56c9-a1ee-4171-a265-13ec70ba7aad",
   "metadata": {},
   "outputs": [],
   "source": []
  }
 ],
 "metadata": {
  "kernelspec": {
   "display_name": "NERSC Python",
   "language": "python",
   "name": "python3"
  },
  "language_info": {
   "codemirror_mode": {
    "name": "ipython",
    "version": 3
   },
   "file_extension": ".py",
   "mimetype": "text/x-python",
   "name": "python",
   "nbconvert_exporter": "python",
   "pygments_lexer": "ipython3",
   "version": "3.11.7"
  }
 },
 "nbformat": 4,
 "nbformat_minor": 5
}
